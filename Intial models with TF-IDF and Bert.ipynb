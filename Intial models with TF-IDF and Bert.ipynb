{
 "cells": [
  {
   "cell_type": "markdown",
   "id": "0872fe45-e287-4d94-b513-5cbfc3e7a1a2",
   "metadata": {
    "jp-MarkdownHeadingCollapsed": true
   },
   "source": [
    "### Importing Libraries and data"
   ]
  },
  {
   "cell_type": "code",
   "execution_count": 10,
   "id": "0940cd1f-c369-4fed-812f-9fd504ccb361",
   "metadata": {},
   "outputs": [
    {
     "name": "stderr",
     "output_type": "stream",
     "text": [
      "C:\\Users\\K Ravinder Reddy\\anaconda3\\Lib\\site-packages\\paramiko\\transport.py:219: CryptographyDeprecationWarning: Blowfish has been deprecated and will be removed in a future release\n",
      "  \"class\": algorithms.Blowfish,\n"
     ]
    }
   ],
   "source": [
    "# Data Manipulation\n",
    "import pandas as pd\n",
    "import numpy as np\n",
    "\n",
    "# Visualization\n",
    "import matplotlib.pyplot as plt\n",
    "import seaborn as sns\n",
    "\n",
    "# NLP for text pre-processing\n",
    "import nltk\n",
    "import scipy\n",
    "import re\n",
    "from scipy import spatial\n",
    "from nltk.tokenize.toktok import ToktokTokenizer\n",
    "from nltk.corpus import stopwords\n",
    "from nltk.tokenize import sent_tokenize, word_tokenize\n",
    "from nltk.stem import PorterStemmer\n",
    "tokenizer = ToktokTokenizer()\n",
    "\n",
    "# other libraries\n",
    "import gensim\n",
    "from gensim.models import Word2Vec\n",
    "import itertools\n",
    "from sklearn.decomposition import PCA\n",
    "from sklearn.feature_extraction. text import TfidfVectorizer\n",
    "from sklearn.decomposition import PCA\n",
    "\n",
    "# Import linear_kernel\n",
    "from sklearn.metrics.pairwise import linear_kernel\n",
    "\n",
    "# remove warnings\n",
    "import warnings\n",
    "warnings.filterwarnings (action = 'ignore')"
   ]
  },
  {
   "cell_type": "code",
   "execution_count": 9,
   "id": "5133976b-40fe-4cee-97a1-0cb7aca1b30d",
   "metadata": {},
   "outputs": [
    {
     "data": {
      "text/html": [
       "<div>\n",
       "<style scoped>\n",
       "    .dataframe tbody tr th:only-of-type {\n",
       "        vertical-align: middle;\n",
       "    }\n",
       "\n",
       "    .dataframe tbody tr th {\n",
       "        vertical-align: top;\n",
       "    }\n",
       "\n",
       "    .dataframe thead th {\n",
       "        text-align: right;\n",
       "    }\n",
       "</style>\n",
       "<table border=\"1\" class=\"dataframe\">\n",
       "  <thead>\n",
       "    <tr style=\"text-align: right;\">\n",
       "      <th></th>\n",
       "      <th>uniq_id</th>\n",
       "      <th>product_url</th>\n",
       "      <th>product_name</th>\n",
       "      <th>product_category_tree</th>\n",
       "      <th>pid</th>\n",
       "      <th>retail_price</th>\n",
       "      <th>discounted_price</th>\n",
       "      <th>image</th>\n",
       "      <th>is_FK_Advantage_product</th>\n",
       "      <th>description</th>\n",
       "      <th>product_rating</th>\n",
       "      <th>overall_rating</th>\n",
       "      <th>brand</th>\n",
       "      <th>product_specifications</th>\n",
       "    </tr>\n",
       "  </thead>\n",
       "  <tbody>\n",
       "    <tr>\n",
       "      <th>0</th>\n",
       "      <td>c2d766ca982eca8304150849735ffef9</td>\n",
       "      <td>http://www.flipkart.com/alisha-solid-women-s-c...</td>\n",
       "      <td>Alisha Solid Women's Cycling Shorts</td>\n",
       "      <td>[\"Clothing &gt;&gt; Women's Clothing &gt;&gt; Lingerie, Sl...</td>\n",
       "      <td>SRTEH2FF9KEDEFGF</td>\n",
       "      <td>999.0</td>\n",
       "      <td>379.0</td>\n",
       "      <td>[\"http://img5a.flixcart.com/image/short/u/4/a/...</td>\n",
       "      <td>False</td>\n",
       "      <td>Key Features of Alisha Solid Women's Cycling S...</td>\n",
       "      <td>No rating available</td>\n",
       "      <td>No rating available</td>\n",
       "      <td>Alisha</td>\n",
       "      <td>{\"product_specification\"=&gt;[{\"key\"=&gt;\"Number of ...</td>\n",
       "    </tr>\n",
       "    <tr>\n",
       "      <th>1</th>\n",
       "      <td>7f7036a6d550aaa89d34c77bd39a5e48</td>\n",
       "      <td>http://www.flipkart.com/fabhomedecor-fabric-do...</td>\n",
       "      <td>FabHomeDecor Fabric Double Sofa Bed</td>\n",
       "      <td>[\"Furniture &gt;&gt; Living Room Furniture &gt;&gt; Sofa B...</td>\n",
       "      <td>SBEEH3QGU7MFYJFY</td>\n",
       "      <td>32157.0</td>\n",
       "      <td>22646.0</td>\n",
       "      <td>[\"http://img6a.flixcart.com/image/sofa-bed/j/f...</td>\n",
       "      <td>False</td>\n",
       "      <td>FabHomeDecor Fabric Double Sofa Bed (Finish Co...</td>\n",
       "      <td>No rating available</td>\n",
       "      <td>No rating available</td>\n",
       "      <td>FabHomeDecor</td>\n",
       "      <td>{\"product_specification\"=&gt;[{\"key\"=&gt;\"Installati...</td>\n",
       "    </tr>\n",
       "    <tr>\n",
       "      <th>2</th>\n",
       "      <td>f449ec65dcbc041b6ae5e6a32717d01b</td>\n",
       "      <td>http://www.flipkart.com/aw-bellies/p/itmeh4grg...</td>\n",
       "      <td>AW Bellies</td>\n",
       "      <td>[\"Footwear &gt;&gt; Women's Footwear &gt;&gt; Ballerinas &gt;...</td>\n",
       "      <td>SHOEH4GRSUBJGZXE</td>\n",
       "      <td>999.0</td>\n",
       "      <td>499.0</td>\n",
       "      <td>[\"http://img5a.flixcart.com/image/shoe/7/z/z/r...</td>\n",
       "      <td>False</td>\n",
       "      <td>Key Features of AW Bellies Sandals Wedges Heel...</td>\n",
       "      <td>No rating available</td>\n",
       "      <td>No rating available</td>\n",
       "      <td>AW</td>\n",
       "      <td>{\"product_specification\"=&gt;[{\"key\"=&gt;\"Ideal For\"...</td>\n",
       "    </tr>\n",
       "    <tr>\n",
       "      <th>3</th>\n",
       "      <td>0973b37acd0c664e3de26e97e5571454</td>\n",
       "      <td>http://www.flipkart.com/alisha-solid-women-s-c...</td>\n",
       "      <td>Alisha Solid Women's Cycling Shorts</td>\n",
       "      <td>[\"Clothing &gt;&gt; Women's Clothing &gt;&gt; Lingerie, Sl...</td>\n",
       "      <td>SRTEH2F6HUZMQ6SJ</td>\n",
       "      <td>699.0</td>\n",
       "      <td>267.0</td>\n",
       "      <td>[\"http://img5a.flixcart.com/image/short/6/2/h/...</td>\n",
       "      <td>False</td>\n",
       "      <td>Key Features of Alisha Solid Women's Cycling S...</td>\n",
       "      <td>No rating available</td>\n",
       "      <td>No rating available</td>\n",
       "      <td>Alisha</td>\n",
       "      <td>{\"product_specification\"=&gt;[{\"key\"=&gt;\"Number of ...</td>\n",
       "    </tr>\n",
       "    <tr>\n",
       "      <th>4</th>\n",
       "      <td>bc940ea42ee6bef5ac7cea3fb5cfbee7</td>\n",
       "      <td>http://www.flipkart.com/sicons-all-purpose-arn...</td>\n",
       "      <td>Sicons All Purpose Arnica Dog Shampoo</td>\n",
       "      <td>[\"Pet Supplies &gt;&gt; Grooming &gt;&gt; Skin &amp; Coat Care...</td>\n",
       "      <td>PSOEH3ZYDMSYARJ5</td>\n",
       "      <td>220.0</td>\n",
       "      <td>210.0</td>\n",
       "      <td>[\"http://img5a.flixcart.com/image/pet-shampoo/...</td>\n",
       "      <td>False</td>\n",
       "      <td>Specifications of Sicons All Purpose Arnica Do...</td>\n",
       "      <td>No rating available</td>\n",
       "      <td>No rating available</td>\n",
       "      <td>Sicons</td>\n",
       "      <td>{\"product_specification\"=&gt;[{\"key\"=&gt;\"Pet Type\",...</td>\n",
       "    </tr>\n",
       "  </tbody>\n",
       "</table>\n",
       "</div>"
      ],
      "text/plain": [
       "                            uniq_id  \\\n",
       "0  c2d766ca982eca8304150849735ffef9   \n",
       "1  7f7036a6d550aaa89d34c77bd39a5e48   \n",
       "2  f449ec65dcbc041b6ae5e6a32717d01b   \n",
       "3  0973b37acd0c664e3de26e97e5571454   \n",
       "4  bc940ea42ee6bef5ac7cea3fb5cfbee7   \n",
       "\n",
       "                                         product_url  \\\n",
       "0  http://www.flipkart.com/alisha-solid-women-s-c...   \n",
       "1  http://www.flipkart.com/fabhomedecor-fabric-do...   \n",
       "2  http://www.flipkart.com/aw-bellies/p/itmeh4grg...   \n",
       "3  http://www.flipkart.com/alisha-solid-women-s-c...   \n",
       "4  http://www.flipkart.com/sicons-all-purpose-arn...   \n",
       "\n",
       "                            product_name  \\\n",
       "0    Alisha Solid Women's Cycling Shorts   \n",
       "1    FabHomeDecor Fabric Double Sofa Bed   \n",
       "2                             AW Bellies   \n",
       "3    Alisha Solid Women's Cycling Shorts   \n",
       "4  Sicons All Purpose Arnica Dog Shampoo   \n",
       "\n",
       "                               product_category_tree               pid  \\\n",
       "0  [\"Clothing >> Women's Clothing >> Lingerie, Sl...  SRTEH2FF9KEDEFGF   \n",
       "1  [\"Furniture >> Living Room Furniture >> Sofa B...  SBEEH3QGU7MFYJFY   \n",
       "2  [\"Footwear >> Women's Footwear >> Ballerinas >...  SHOEH4GRSUBJGZXE   \n",
       "3  [\"Clothing >> Women's Clothing >> Lingerie, Sl...  SRTEH2F6HUZMQ6SJ   \n",
       "4  [\"Pet Supplies >> Grooming >> Skin & Coat Care...  PSOEH3ZYDMSYARJ5   \n",
       "\n",
       "   retail_price  discounted_price  \\\n",
       "0         999.0             379.0   \n",
       "1       32157.0           22646.0   \n",
       "2         999.0             499.0   \n",
       "3         699.0             267.0   \n",
       "4         220.0             210.0   \n",
       "\n",
       "                                               image  is_FK_Advantage_product  \\\n",
       "0  [\"http://img5a.flixcart.com/image/short/u/4/a/...                    False   \n",
       "1  [\"http://img6a.flixcart.com/image/sofa-bed/j/f...                    False   \n",
       "2  [\"http://img5a.flixcart.com/image/shoe/7/z/z/r...                    False   \n",
       "3  [\"http://img5a.flixcart.com/image/short/6/2/h/...                    False   \n",
       "4  [\"http://img5a.flixcart.com/image/pet-shampoo/...                    False   \n",
       "\n",
       "                                         description       product_rating  \\\n",
       "0  Key Features of Alisha Solid Women's Cycling S...  No rating available   \n",
       "1  FabHomeDecor Fabric Double Sofa Bed (Finish Co...  No rating available   \n",
       "2  Key Features of AW Bellies Sandals Wedges Heel...  No rating available   \n",
       "3  Key Features of Alisha Solid Women's Cycling S...  No rating available   \n",
       "4  Specifications of Sicons All Purpose Arnica Do...  No rating available   \n",
       "\n",
       "        overall_rating         brand  \\\n",
       "0  No rating available        Alisha   \n",
       "1  No rating available  FabHomeDecor   \n",
       "2  No rating available            AW   \n",
       "3  No rating available        Alisha   \n",
       "4  No rating available        Sicons   \n",
       "\n",
       "                              product_specifications  \n",
       "0  {\"product_specification\"=>[{\"key\"=>\"Number of ...  \n",
       "1  {\"product_specification\"=>[{\"key\"=>\"Installati...  \n",
       "2  {\"product_specification\"=>[{\"key\"=>\"Ideal For\"...  \n",
       "3  {\"product_specification\"=>[{\"key\"=>\"Number of ...  \n",
       "4  {\"product_specification\"=>[{\"key\"=>\"Pet Type\",...  "
      ]
     },
     "execution_count": 9,
     "metadata": {},
     "output_type": "execute_result"
    }
   ],
   "source": [
    "data=pd.read_csv(\"flipkart_com-ecommerce_sample.csv\")\n",
    "data.head()"
   ]
  },
  {
   "cell_type": "markdown",
   "id": "913e6db0-6370-4d91-a36e-c7b2abb0edfe",
   "metadata": {
    "jp-MarkdownHeadingCollapsed": true
   },
   "source": [
    "### Data Exploration"
   ]
  },
  {
   "cell_type": "code",
   "execution_count": 3,
   "id": "10f65a0d-ead8-445a-bf4d-f54ef15d02b2",
   "metadata": {},
   "outputs": [
    {
     "data": {
      "text/plain": [
       "(20000, 14)"
      ]
     },
     "execution_count": 3,
     "metadata": {},
     "output_type": "execute_result"
    }
   ],
   "source": [
    "data.shape"
   ]
  },
  {
   "cell_type": "code",
   "execution_count": 4,
   "id": "14a1b18e-eb4c-47fa-9971-418c5a358073",
   "metadata": {},
   "outputs": [
    {
     "name": "stdout",
     "output_type": "stream",
     "text": [
      "<class 'pandas.core.frame.DataFrame'>\n",
      "RangeIndex: 20000 entries, 0 to 19999\n",
      "Data columns (total 14 columns):\n",
      " #   Column                   Non-Null Count  Dtype  \n",
      "---  ------                   --------------  -----  \n",
      " 0   uniq_id                  20000 non-null  object \n",
      " 1   product_url              20000 non-null  object \n",
      " 2   product_name             20000 non-null  object \n",
      " 3   product_category_tree    20000 non-null  object \n",
      " 4   pid                      20000 non-null  object \n",
      " 5   retail_price             19922 non-null  float64\n",
      " 6   discounted_price         19922 non-null  float64\n",
      " 7   image                    19997 non-null  object \n",
      " 8   is_FK_Advantage_product  20000 non-null  bool   \n",
      " 9   description              19998 non-null  object \n",
      " 10  product_rating           20000 non-null  object \n",
      " 11  overall_rating           20000 non-null  object \n",
      " 12  brand                    14136 non-null  object \n",
      " 13  product_specifications   19986 non-null  object \n",
      "dtypes: bool(1), float64(2), object(11)\n",
      "memory usage: 2.0+ MB\n"
     ]
    }
   ],
   "source": [
    "data.info()"
   ]
  },
  {
   "cell_type": "markdown",
   "id": "dba30173-9781-4631-a0be-ea1c4077ffa0",
   "metadata": {},
   "source": [
    "#### analyzing the description column"
   ]
  },
  {
   "cell_type": "code",
   "execution_count": 5,
   "id": "ec68dee4-1b1f-4917-be94-3c21d7ab64a6",
   "metadata": {},
   "outputs": [
    {
     "data": {
      "image/png": "[encoded data removed]",
      "text/plain": [
       "<Figure size 1000x600 with 1 Axes>"
      ]
     },
     "metadata": {},
     "output_type": "display_data"
    }
   ],
   "source": [
    "#add new length column to give the total length of the description input varriable\n",
    "data['length'] = data['description'].str.len()\n",
    "\n",
    "#add new column for storing number of words in description before text preprocessing\n",
    "data['no_of_words'] = data['description'].apply(lambda x: len(x.split()) if isinstance(x, str) else np.nan)\n",
    "\n",
    "#bins and labels\n",
    "bins = [0, 100, 300, 500, 800, np.inf]\n",
    "labels = ['0-100', '100-300', '300-500', '500-800', '>800']\n",
    "\n",
    "#creating word count distribution\n",
    "words_distribution = pd.cut(data['no_of_words'], bins=bins, labels=labels).value_counts().sort_index().reset_index()\n",
    "words_distribution.columns = ['Word Count Bin', 'Frequency']\n",
    "\n",
    "#Plotting\n",
    "plt.figure(figsize=(10, 6))\n",
    "sns.barplot(x='Word Count Bin', y='Frequency', data=words_distribution, palette=\"rainbow\")\n",
    "\n",
    "#Add titles and labels\n",
    "plt.title(\"Distribution of Word Count in Product Descriptions\", fontsize=14, fontweight='bold', color='darkblue')\n",
    "plt.xlabel(\"Word Count Range\", fontsize=12)\n",
    "plt.ylabel(\"Number of Products\", fontsize=12)\n",
    "\n",
    "#Enhancing the aesthetics of the plot\n",
    "plt.xticks(fontsize=10, color='blue')\n",
    "plt.yticks(fontsize=10)\n",
    "plt.grid(True, axis='y', linestyle='--', alpha=0.7)\n",
    "\n",
    "#Display the plot\n",
    "plt.tight_layout()\n",
    "plt.show()\n"
   ]
  },
  {
   "cell_type": "markdown",
   "id": "cfe2fab7-e786-420e-adb8-53c88ee0d1a0",
   "metadata": {},
   "source": [
    "#### Exploring categories of the products"
   ]
  },
  {
   "cell_type": "code",
   "execution_count": 7,
   "id": "d6853d56-94b6-4eec-abe9-846fe3fc46cd",
   "metadata": {},
   "outputs": [
    {
     "data": {
      "image/png": "[encoded data removed]",
      "text/plain": [
       "<Figure size 1000x600 with 1 Axes>"
      ]
     },
     "metadata": {},
     "output_type": "display_data"
    }
   ],
   "source": [
    "# Extract and clean category data\n",
    "data['category'] = data['product_category_tree'].str.split('>>').str[0]\n",
    "category_counts = data['category'].value_counts().head(10)  # Top 10 categories\n",
    "\n",
    "# Plot category distribution\n",
    "plt.figure(figsize=(10, 6))\n",
    "sns.barplot(x=category_counts.values, y=category_counts.index, palette='coolwarm')\n",
    "\n",
    "plt.title('Top 10 Product Categories', fontsize=14, fontweight='bold')\n",
    "plt.xlabel('Number of Products', fontsize=12)\n",
    "plt.ylabel('Category', fontsize=12)\n",
    "plt.show()"
   ]
  },
  {
   "cell_type": "code",
   "execution_count": 8,
   "id": "a977b3f9-296e-445e-9913-968ee11d22eb",
   "metadata": {},
   "outputs": [
    {
     "name": "stdout",
     "output_type": "stream",
     "text": [
      "<class 'pandas.core.frame.DataFrame'>\n",
      "RangeIndex: 20000 entries, 0 to 19999\n",
      "Data columns (total 17 columns):\n",
      " #   Column                   Non-Null Count  Dtype  \n",
      "---  ------                   --------------  -----  \n",
      " 0   uniq_id                  20000 non-null  object \n",
      " 1   product_url              20000 non-null  object \n",
      " 2   product_name             20000 non-null  object \n",
      " 3   product_category_tree    20000 non-null  object \n",
      " 4   pid                      20000 non-null  object \n",
      " 5   retail_price             19922 non-null  float64\n",
      " 6   discounted_price         19922 non-null  float64\n",
      " 7   image                    19997 non-null  object \n",
      " 8   is_FK_Advantage_product  20000 non-null  bool   \n",
      " 9   description              19998 non-null  object \n",
      " 10  product_rating           20000 non-null  object \n",
      " 11  overall_rating           20000 non-null  object \n",
      " 12  brand                    14136 non-null  object \n",
      " 13  product_specifications   19986 non-null  object \n",
      " 14  length                   19998 non-null  float64\n",
      " 15  no_of_words              19998 non-null  float64\n",
      " 16  category                 20000 non-null  object \n",
      "dtypes: bool(1), float64(4), object(12)\n",
      "memory usage: 2.5+ MB\n"
     ]
    }
   ],
   "source": [
    "data.info()"
   ]
  },
  {
   "cell_type": "code",
   "execution_count": 9,
   "id": "a7a45bbd-e594-4ec1-be06-5ee4323c7c67",
   "metadata": {},
   "outputs": [],
   "source": [
    "data=data.drop(columns=['category'])"
   ]
  },
  {
   "cell_type": "markdown",
   "id": "0493dff2-9067-45e5-ada1-c521c2ea4ce5",
   "metadata": {
    "jp-MarkdownHeadingCollapsed": true
   },
   "source": [
    "## Data preprocessing"
   ]
  },
  {
   "cell_type": "code",
   "execution_count": 11,
   "id": "b0f80ba7-d8ec-4af7-ab86-ae1e1920b98e",
   "metadata": {},
   "outputs": [
    {
     "data": {
      "text/plain": [
       "uniq_id                       0\n",
       "product_url                   0\n",
       "product_name                  0\n",
       "product_category_tree         0\n",
       "pid                           0\n",
       "retail_price                 78\n",
       "discounted_price             78\n",
       "image                         3\n",
       "is_FK_Advantage_product       0\n",
       "description                   2\n",
       "product_rating                0\n",
       "overall_rating                0\n",
       "brand                      5864\n",
       "product_specifications       14\n",
       "dtype: int64"
      ]
     },
     "execution_count": 11,
     "metadata": {},
     "output_type": "execute_result"
    }
   ],
   "source": [
    "data.isnull().sum()"
   ]
  },
  {
   "cell_type": "code",
   "execution_count": 12,
   "id": "13260fc8-4c6c-4097-977e-db9ddbf0fb32",
   "metadata": {},
   "outputs": [
    {
     "data": {
      "text/html": [
       "<div>\n",
       "<style scoped>\n",
       "    .dataframe tbody tr th:only-of-type {\n",
       "        vertical-align: middle;\n",
       "    }\n",
       "\n",
       "    .dataframe tbody tr th {\n",
       "        vertical-align: top;\n",
       "    }\n",
       "\n",
       "    .dataframe thead th {\n",
       "        text-align: right;\n",
       "    }\n",
       "</style>\n",
       "<table border=\"1\" class=\"dataframe\">\n",
       "  <thead>\n",
       "    <tr style=\"text-align: right;\">\n",
       "      <th></th>\n",
       "      <th>missing</th>\n",
       "      <th>percent</th>\n",
       "    </tr>\n",
       "  </thead>\n",
       "  <tbody>\n",
       "    <tr>\n",
       "      <th>brand</th>\n",
       "      <td>5864</td>\n",
       "      <td>29.320</td>\n",
       "    </tr>\n",
       "    <tr>\n",
       "      <th>retail_price</th>\n",
       "      <td>78</td>\n",
       "      <td>0.390</td>\n",
       "    </tr>\n",
       "    <tr>\n",
       "      <th>discounted_price</th>\n",
       "      <td>78</td>\n",
       "      <td>0.390</td>\n",
       "    </tr>\n",
       "    <tr>\n",
       "      <th>product_specifications</th>\n",
       "      <td>14</td>\n",
       "      <td>0.070</td>\n",
       "    </tr>\n",
       "    <tr>\n",
       "      <th>image</th>\n",
       "      <td>3</td>\n",
       "      <td>0.015</td>\n",
       "    </tr>\n",
       "    <tr>\n",
       "      <th>description</th>\n",
       "      <td>2</td>\n",
       "      <td>0.010</td>\n",
       "    </tr>\n",
       "    <tr>\n",
       "      <th>uniq_id</th>\n",
       "      <td>0</td>\n",
       "      <td>0.000</td>\n",
       "    </tr>\n",
       "    <tr>\n",
       "      <th>product_url</th>\n",
       "      <td>0</td>\n",
       "      <td>0.000</td>\n",
       "    </tr>\n",
       "    <tr>\n",
       "      <th>product_name</th>\n",
       "      <td>0</td>\n",
       "      <td>0.000</td>\n",
       "    </tr>\n",
       "    <tr>\n",
       "      <th>product_category_tree</th>\n",
       "      <td>0</td>\n",
       "      <td>0.000</td>\n",
       "    </tr>\n",
       "    <tr>\n",
       "      <th>pid</th>\n",
       "      <td>0</td>\n",
       "      <td>0.000</td>\n",
       "    </tr>\n",
       "    <tr>\n",
       "      <th>is_FK_Advantage_product</th>\n",
       "      <td>0</td>\n",
       "      <td>0.000</td>\n",
       "    </tr>\n",
       "    <tr>\n",
       "      <th>product_rating</th>\n",
       "      <td>0</td>\n",
       "      <td>0.000</td>\n",
       "    </tr>\n",
       "    <tr>\n",
       "      <th>overall_rating</th>\n",
       "      <td>0</td>\n",
       "      <td>0.000</td>\n",
       "    </tr>\n",
       "  </tbody>\n",
       "</table>\n",
       "</div>"
      ],
      "text/plain": [
       "                         missing  percent\n",
       "brand                       5864   29.320\n",
       "retail_price                  78    0.390\n",
       "discounted_price              78    0.390\n",
       "product_specifications        14    0.070\n",
       "image                          3    0.015\n",
       "description                    2    0.010\n",
       "uniq_id                        0    0.000\n",
       "product_url                    0    0.000\n",
       "product_name                   0    0.000\n",
       "product_category_tree          0    0.000\n",
       "pid                            0    0.000\n",
       "is_FK_Advantage_product        0    0.000\n",
       "product_rating                 0    0.000\n",
       "overall_rating                 0    0.000"
      ]
     },
     "execution_count": 12,
     "metadata": {},
     "output_type": "execute_result"
    }
   ],
   "source": [
    "#handling missing values\n",
    "missing = pd.DataFrame(data.isnull().sum()).rename (columns = {0: 'missing' })\n",
    "missing['percent'] = (missing['missing'] /len(data))*100\n",
    "missing.sort_values ('percent', ascending = False)"
   ]
  },
  {
   "cell_type": "code",
   "execution_count": 13,
   "id": "f849f9ed-74a5-414b-a63f-54470bc88d1f",
   "metadata": {},
   "outputs": [
    {
     "name": "stdout",
     "output_type": "stream",
     "text": [
      "Number of duplicate rows: 0\n",
      "No duplicate rows found.\n",
      "Original dataset shape: (20000, 14)\n",
      "Dataset shape after removing duplicates: (20000, 14)\n"
     ]
    }
   ],
   "source": [
    "# fing ing the redundant or duplicate rows and removingthem\n",
    "\n",
    "duplicate_rows = data[data.duplicated()]\n",
    "\n",
    "# Print the number of duplicate rows found\n",
    "print(f\"Number of duplicate rows: {duplicate_rows.shape[0]}\")\n",
    "\n",
    "# Display the duplicate rows (if any)\n",
    "if duplicate_rows.shape[0] > 0:\n",
    "    print(\"Duplicate rows found:\")\n",
    "    print(duplicate_rows)\n",
    "else:\n",
    "    print(\"No duplicate rows found.\")\n",
    "\n",
    "# Remove duplicate rows and keep the first occurrence\n",
    "data_cleaned = data.drop_duplicates()\n",
    "\n",
    "# Verify the result by checking the new shape of the dataset\n",
    "print(f\"Original dataset shape: {data.shape}\")\n",
    "print(f\"Dataset shape after removing duplicates: {data_cleaned.shape}\")\n"
   ]
  },
  {
   "cell_type": "markdown",
   "id": "6b19c9cb-e1b6-440a-a6b5-a611875b6b7b",
   "metadata": {},
   "source": [
    "##### Text preprocessing"
   ]
  },
  {
   "cell_type": "markdown",
   "id": "628d83ba-6288-404e-b0c0-7116442a456a",
   "metadata": {},
   "source": [
    "There is a lot of unwanted information present in the text data. Let's clean it up. Text preprocessing tasks include\n",
    "\n",
    "* Converting the text data to lowercase\n",
    "* Removing/replacing the punctuations\n",
    "* Removing/replacing the numbers\n",
    "* Removing extra whitespaces\n",
    "* Removing stop words\n",
    "* Stemming and lemmatization"
   ]
  },
  {
   "cell_type": "code",
   "execution_count": 14,
   "id": "d23d2e57-6836-443c-9ee9-1e983cf408ac",
   "metadata": {},
   "outputs": [
    {
     "data": {
      "text/plain": [
       "0    key features of alisha solid women's cycling s...\n",
       "1    fabhomedecor fabric double sofa bed (finish co...\n",
       "2    key features of aw bellies sandals wedges heel...\n",
       "3    key features of alisha solid women's cycling s...\n",
       "4    specifications of sicons all purpose arnica do...\n",
       "Name: description, dtype: object"
      ]
     },
     "execution_count": 14,
     "metadata": {},
     "output_type": "execute_result"
    }
   ],
   "source": [
    "#to lowercase\n",
    "data['description'] = data['description'].str.lower()\n",
    "\n",
    "#removing punctivations\n",
    "data['description'] = data['description'].str.replace(r'[^\\w\\d\\s]',' ')\n",
    "\n",
    "#replacing whitespace between terms with a single space\n",
    "data['description'] = data['description'].str.replace(r'\\s+',' ')\n",
    "\n",
    "#removing leading and trailing whitespace\n",
    "data['description'] = data['description'].str.replace(r'^\\s+|\\s+?$','')\n",
    "\n",
    "data['description'].head()"
   ]
  },
  {
   "cell_type": "markdown",
   "id": "9e7a9447-2b7c-464c-8d20-e4aa4cfe594d",
   "metadata": {},
   "source": [
    "### Removing stop words"
   ]
  },
  {
   "cell_type": "code",
   "execution_count": 15,
   "id": "69228d39-4640-4463-99d9-69cf6a927e74",
   "metadata": {},
   "outputs": [
    {
     "name": "stderr",
     "output_type": "stream",
     "text": [
      "[nltk_data] Downloading package stopwords to C:\\Users\\K Ravinder\n",
      "[nltk_data]     Reddy\\AppData\\Roaming\\nltk_data...\n",
      "[nltk_data]   Package stopwords is already up-to-date!\n"
     ]
    }
   ],
   "source": [
    "import nltk\n",
    "nltk.download('stopwords')\n",
    "\n",
    "#Removing stop words\n",
    "stop=stopwords.words('english')"
   ]
  },
  {
   "cell_type": "code",
   "execution_count": 16,
   "id": "5c1da560-f572-47e4-8718-88f9788cee7b",
   "metadata": {},
   "outputs": [
    {
     "data": {
      "text/plain": [
       "0    features of alisha solid women's cycling short...\n",
       "1    fabhomedecor fabric double sofa bed (finish co...\n",
       "2    features of aw bellies sandals wedges heel cas...\n",
       "3    features of alisha solid women's cycling short...\n",
       "4    specifications of sicons all purpose arnica do...\n",
       "Name: description, dtype: object"
      ]
     },
     "execution_count": 16,
     "metadata": {},
     "output_type": "execute_result"
    }
   ],
   "source": [
    "import re\n",
    "\n",
    "pattern = r'\\b(?:{})\\b'.format('|'.join(stop))\n",
    "data['description'] = data['description'].str.replace(pattern, '')\n",
    "\n",
    "# Removing single characters\n",
    "data['description'] = data['description'].str.replace(r'\\s+', ' ')\n",
    "data['description'] = data['description'].apply(lambda x: \" \".join([word for word in str(x).split() if len(word) > 1]))\n",
    "\n",
    "# Removing domain related stop words from description\n",
    "specific_stop_words = [\"rs\", \"flipkart\", \"buy\", \"com\", \"free\", \"day\", \"cash\", \"replacement\", \"guarantee\", \"genuine\", \"key\", \"feature\", \"delivery\", \"products\", \"product\", \"shipping\", \"online\", \"india\", \"shop\"]\n",
    "data['description'] = data['description'].apply(lambda x: \" \".join(word for word in str(x).split() if word not in specific_stop_words))\n",
    "\n",
    "data['description'].head()"
   ]
  },
  {
   "cell_type": "markdown",
   "id": "46b911b4-5ca5-45ba-8202-0534afe1bb8e",
   "metadata": {},
   "source": [
    "##### Visualizing the most occured words in corpus "
   ]
  },
  {
   "cell_type": "code",
   "execution_count": 18,
   "id": "0caaed16-4002-43f6-aba0-7855a57401fe",
   "metadata": {},
   "outputs": [
    {
     "name": "stderr",
     "output_type": "stream",
     "text": [
      "[nltk_data] Downloading package punkt to C:\\Users\\K Ravinder\n",
      "[nltk_data]     Reddy\\AppData\\Roaming\\nltk_data...\n",
      "[nltk_data]   Package punkt is already up-to-date!\n",
      "[nltk_data] Downloading package punkt_tab to C:\\Users\\K Ravinder\n",
      "[nltk_data]     Reddy\\AppData\\Roaming\\nltk_data...\n",
      "[nltk_data]   Package punkt_tab is already up-to-date!\n"
     ]
    },
    {
     "data": {
      "text/plain": [
       "True"
      ]
     },
     "execution_count": 18,
     "metadata": {},
     "output_type": "execute_result"
    }
   ],
   "source": [
    "import nltk\n",
    "nltk.download('punkt')\n",
    "nltk.download('punkt_tab')"
   ]
  },
  {
   "cell_type": "code",
   "execution_count": 19,
   "id": "7c390d34-6d3e-480f-a5a8-ca898ea24bf0",
   "metadata": {},
   "outputs": [
    {
     "name": "stdout",
     "output_type": "stream",
     "text": [
      "[('women', 10547), ('color', 5631), ('specifications', 5145), ('men', 5027), ('casual', 4920), ('fabric', 4910), ('material', 4855), ('general', 4772), ('collection', 4615), ('set', 4439)]\n"
     ]
    },
    {
     "data": {
      "image/png": "[encoded data removed]",
      "text/plain": [
       "<Figure size 1000x600 with 1 Axes>"
      ]
     },
     "metadata": {},
     "output_type": "display_data"
    }
   ],
   "source": [
    "#most frequent words after removing domain related stopwords\n",
    "\n",
    "# Custom stopwords list (including 'rs' and other domain-specific terms)\n",
    "custom_stopwords = stopwords.words('english') + ['rs', 'type','details','guarantee','product', 'products', 'delivery', 'shipping', 'cm','price', 'features']\n",
    "\n",
    "# Concatenate all product descriptions into a single string\n",
    "a = data['description'].str.cat(sep=' ')\n",
    "\n",
    "# Tokenize the text\n",
    "words = nltk.tokenize.word_tokenize(a)\n",
    "\n",
    "# Filter out non-alphabetic words and stopwords (both generic and domain-specific)\n",
    "words = [word for word in words if re.match(r'^[a-zA-Z]+$', word) and word.lower() not in custom_stopwords]\n",
    "\n",
    "# Create a frequency distribution of the remaining words\n",
    "word_dist = nltk.FreqDist(words)\n",
    "\n",
    "# Plot the top 10 most frequent words\n",
    "plt.figure(figsize=(10, 6))\n",
    "word_dist.plot(10, cumulative=False)\n",
    "\n",
    "# Print the top 10 most frequent words\n",
    "print(word_dist.most_common(10))"
   ]
  },
  {
   "cell_type": "code",
   "execution_count": null,
   "id": "0fd3a821-c630-4fd9-8a4c-2a09e0d19958",
   "metadata": {},
   "outputs": [],
   "source": []
  },
  {
   "cell_type": "markdown",
   "id": "3b066cea-3f5b-4723-a3f6-17eb0d66ddb8",
   "metadata": {
    "jp-MarkdownHeadingCollapsed": true
   },
   "source": [
    "## Model Building"
   ]
  },
  {
   "cell_type": "markdown",
   "id": "33ec77f2-e997-4c86-994b-c8f085e177bf",
   "metadata": {},
   "source": [
    "We build two models\n",
    "* A content-based recommendation system\n",
    "* A product search engine"
   ]
  },
  {
   "cell_type": "markdown",
   "id": "a1d1373a-056d-4635-82a6-3dfc70fd6e01",
   "metadata": {},
   "source": [
    "###### TF-IDF approach "
   ]
  },
  {
   "cell_type": "markdown",
   "id": "6aa75313-2254-438b-abe6-91eb2d2393ac",
   "metadata": {
    "jp-MarkdownHeadingCollapsed": true
   },
   "source": [
    "## 1. Content-based Recommendation System -TF-IDF Approach"
   ]
  },
  {
   "cell_type": "code",
   "execution_count": 63,
   "id": "3cb53461-84d1-4f41-9792-429fa8132901",
   "metadata": {},
   "outputs": [],
   "source": [
    "import pandas as pd\n",
    "from sklearn.feature_extraction.text import TfidfVectorizer\n",
    "from sklearn.metrics.pairwise import linear_kernel"
   ]
  },
  {
   "cell_type": "code",
   "execution_count": 64,
   "id": "ab3f9a9e-d242-4c50-967d-738bb8682c0f",
   "metadata": {},
   "outputs": [
    {
     "name": "stdout",
     "output_type": "stream",
     "text": [
      "(20000, 26198)\n"
     ]
    }
   ],
   "source": [
    "# Text cleaning: fill missing descriptions with empty strings\n",
    "data['description'] = data['description'].fillna('')\n",
    "\n",
    "# Define the vectorizer\n",
    "T_vec = TfidfVectorizer(stop_words='english')\n",
    "\n",
    "# Get the TF-IDF vectors for the descriptions\n",
    "T_vec_matrix = T_vec.fit_transform(data['description'])\n",
    "\n",
    "# Shape of the matrix\n",
    "print(T_vec_matrix.shape)"
   ]
  },
  {
   "cell_type": "markdown",
   "id": "df0ce009-0e7f-485d-bb53-026b3e92fd73",
   "metadata": {},
   "source": [
    "let's calculate similarity scores for each combination and generate matrix.\n",
    "\n",
    "cosine similarity is used in this project. We need to write a function that takes product descriptions as input and lists N most similar items/products.\n",
    "\n",
    "We also need to do reverse mapping of product names to their indices."
   ]
  },
  {
   "cell_type": "code",
   "execution_count": 20,
   "id": "04ad5a3f-efa2-4d5e-8e4a-8d1c6ef9c61a",
   "metadata": {},
   "outputs": [
    {
     "data": {
      "text/plain": [
       "product_name\n",
       "Alisha Solid Women's Cycling Shorts      0\n",
       "FabHomeDecor Fabric Double Sofa Bed      1\n",
       "AW Bellies                               2\n",
       "Alisha Solid Women's Cycling Shorts      3\n",
       "Sicons All Purpose Arnica Dog Shampoo    4\n",
       "dtype: int64"
      ]
     },
     "execution_count": 20,
     "metadata": {},
     "output_type": "execute_result"
    }
   ],
   "source": [
    "# Reversing the map of indices and product names\n",
    "product_index = pd.Series(data.index, index=data['product_name']).drop_duplicates()\n",
    "product_index.head()"
   ]
  },
  {
   "cell_type": "code",
   "execution_count": 21,
   "id": "dde5c275-95d9-4e38-915c-21ee7906af9c",
   "metadata": {},
   "outputs": [
    {
     "name": "stdin",
     "output_type": "stream",
     "text": [
      "Enter a product name:  comb\n"
     ]
    },
    {
     "name": "stdout",
     "output_type": "stream",
     "text": [
      "'comb' is not found in the dataset. Please enter a valid product name.\n"
     ]
    }
   ],
   "source": [
    "#Function that takes in product title as input and outputs the most similar product\n",
    "\n",
    "def predict_products(text, N=10):\n",
    "    # Check if the product exists in the dataset\n",
    "    if text not in product_index:\n",
    "        print(f\"'{text}' is not found in the dataset. Please enter a valid product name.\")\n",
    "        return None\n",
    "    \n",
    "    # Get the index of the product\n",
    "    index = product_index[text]\n",
    "    \n",
    "    # Calculate pairwise similarity scores between the input product and all others\n",
    "    score_matrix = linear_kernel(T_vec_matrix[index], T_vec_matrix)\n",
    "    \n",
    "    # List of similarity scores\n",
    "    matching_sc = list(enumerate(score_matrix[0]))\n",
    "    \n",
    "    # Sort the products based on similarity scores (highest first)\n",
    "    matching_sc = sorted(matching_sc, key=lambda x: x[1], reverse=True)\n",
    "    \n",
    "    # Get the indices of the top N most similar products (excluding the input product itself)\n",
    "    matching_sc = matching_sc[1:N+1]\n",
    "    product_indices = [i[0] for i in matching_sc]\n",
    "    \n",
    "    # Return the names of the similar products\n",
    "    return data['product_name'].iloc[product_indices]\n",
    "\n",
    "# Input from the user\n",
    "product_name = input(\"Enter a product name: \")\n",
    "\n",
    "# Get recommendations\n",
    "recommended_product = predict_products(product_name)\n",
    "\n",
    "# If recommendations are found, print them\n",
    "if recommended_product is not None:\n",
    "    print(\"\\nSimilar products:\\n\")\n",
    "    for product in recommended_product:\n",
    "        print(product)"
   ]
  },
  {
   "cell_type": "markdown",
   "id": "7d860b31-eba9-495c-9cb1-aa68896bc040",
   "metadata": {},
   "source": [
    "******************************************************************************************\n",
    "Note: When building a search engine based on a dataset using content-based filtering, you will only be able to recommend or retrieve items that are present in your dataset. If a product detail is not in the data, the system will not be able to provide that information. This limitation arises because content-based filtering relies solely on the features and attributes of the items in the dataset to make recommendations. Therefore, any product not included in the dataset will not be accessible through the search engine."
   ]
  },
  {
   "cell_type": "markdown",
   "id": "ddd1a86c-a304-4045-a973-3e8f756654f0",
   "metadata": {},
   "source": [
    "***************************************"
   ]
  },
  {
   "cell_type": "code",
   "execution_count": 69,
   "id": "9bb165bc-8e09-4477-9c07-39c6ff3f9e7e",
   "metadata": {},
   "outputs": [
    {
     "name": "stdin",
     "output_type": "stream",
     "text": [
      "Enter a product name:  Lee Parke Running Shoes\n"
     ]
    },
    {
     "name": "stdout",
     "output_type": "stream",
     "text": [
      "\n",
      "Similar products:\n",
      "\n",
      "Lee Parke Walking Shoes\n",
      "N Five Running Shoes\n",
      "Knight Ace Kraasa Sports Running Shoes, Cycling Shoes, Walking Shoes\n",
      "WorldWearFootwear Running Shoes, Walking Shoes\n",
      "reenak Running Shoes\n",
      "Chazer Running Shoes\n",
      "Glacier Running Shoes\n",
      "Sonaxo Men Running Shoes\n",
      "ETHICS Running Shoes\n",
      "TOUCHWOOD Noble Light Black Sports Running Shoes\n"
     ]
    }
   ],
   "source": [
    "#LET'S try another example\n",
    "product_name = input(\"Enter a product name: \")\n",
    "\n",
    "recommended_product = predict_products(product_name)\n",
    "if recommended_product is not None:\n",
    "    print(\"\\nSimilar products:\\n\")\n",
    "    for product in recommended_product:\n",
    "        print(product)"
   ]
  },
  {
   "cell_type": "markdown",
   "id": "9f6d513d-53e3-4c19-bbc8-ba0bc82bf109",
   "metadata": {},
   "source": [
    "*******************"
   ]
  },
  {
   "cell_type": "markdown",
   "id": "2fb274a6-b108-40dc-b8ae-5c917a5787eb",
   "metadata": {
    "jp-MarkdownHeadingCollapsed": true
   },
   "source": [
    "## 2. Product search engine - word2vec,cosine similarity,vectors,.."
   ]
  },
  {
   "cell_type": "markdown",
   "id": "eb57f1db-a7dc-4c6f-b594-728ae615b727",
   "metadata": {},
   "source": [
    "Key Notes:\n",
    "* most of search engines are based on string matchings\n",
    "To resolve this issue we use word embedings, using word2vec.\n",
    "* word2vec- uses neural network -  2 ways - skip-gram and CBOW (common bag-of-words).\n"
   ]
  },
  {
   "cell_type": "markdown",
   "id": "23723c1f-2766-473b-9de1-97ccd9cee1fa",
   "metadata": {},
   "source": [
    "#### Implementation"
   ]
  },
  {
   "cell_type": "markdown",
   "id": "b45d49d1-7b9b-43e9-8b77-4ecd4beeaf56",
   "metadata": {},
   "source": [
    "We can utilize the pretrained Word2Vec model from Google on the news dataset. The model can be imported to obtain vectors for each word, allowing us to use various similarity measures to rank the results."
   ]
  },
  {
   "cell_type": "code",
   "execution_count": 22,
   "id": "471821fc-99c0-484e-a11b-b5ac2d4cf203",
   "metadata": {},
   "outputs": [],
   "source": [
    "## loading data and preprocessing\n",
    "# Create the description list\n",
    "fin = []\n",
    "for i in range(len(data['description'])):\n",
    "    temp = []\n",
    "    temp.append(data['description'][i])\n",
    "    fin = fin + temp\n",
    "\n",
    "# Extracting the relevant columns\n",
    "data1 = data[['product_name', 'description']]"
   ]
  },
  {
   "cell_type": "code",
   "execution_count": 23,
   "id": "462571e9-ffc9-43de-a9b1-4a81ac4581ed",
   "metadata": {},
   "outputs": [],
   "source": [
    "## Loading Pretrained Word2Vec Model\n",
    "from gensim.models import KeyedVectors\n",
    "\n",
    "# Load the Google News word2vec model\n",
    "filename = (\"GoogleNews-vectors-negative300.bin\")  # Ensure you have this model file\n",
    "model = KeyedVectors.load_word2vec_format(filename, binary=True, limit=50000)"
   ]
  },
  {
   "cell_type": "code",
   "execution_count": 24,
   "id": "b7bf5e70-c5bc-402c-a6e0-292acb072365",
   "metadata": {},
   "outputs": [],
   "source": [
    "## Stopwords Removal and Text Preprocessing Function\n",
    "stop = nltk.corpus.stopwords.words('english')\n",
    "\n",
    "# Function to remove stopwords and special characters\n",
    "def remove_stopwords(text, is_lower_case=False):\n",
    "    pattern = r'[^a-zA-Z0-9\\s]'\n",
    "    text = re.sub(pattern, '', text[0])  # Cleaning the first element from the list\n",
    "    tokens = nltk.word_tokenize(text)\n",
    "    tokens = [token.strip() for token in tokens]\n",
    "    if is_lower_case:\n",
    "        filtered_tokens = [token for token in tokens if token not in stop]\n",
    "    else:\n",
    "        filtered_tokens = [token for token in tokens if token.lower() not in stop]\n",
    "    filtered_text = ' '.join(filtered_tokens)\n",
    "    return filtered_text\n"
   ]
  },
  {
   "cell_type": "code",
   "execution_count": 25,
   "id": "fcd4882b-4cfe-4e5c-adf5-0ea4d5df0a84",
   "metadata": {},
   "outputs": [],
   "source": [
    "## Embedding Function Using Word2Vec\n",
    "def get_embedding(word):\n",
    "    if word in model.key_to_index:\n",
    "        return model[word]\n",
    "    else:\n",
    "        return np.zeros(model.vector_size)  # Return zero vector if word is not in model\n",
    "\n",
    "# Calculate word embeddings for each description and store the average vector\n",
    "data['word_embeddings'] = data['description'].apply(lambda x: np.mean([get_embedding(word) for word in nltk.word_tokenize(remove_stopwords([x]))], axis=0))\n"
   ]
  },
  {
   "cell_type": "code",
   "execution_count": 26,
   "id": "fd3e36a2-2150-4358-b43e-795f2dd3ffe0",
   "metadata": {},
   "outputs": [],
   "source": [
    "## Creating Average Vectors for Descriptions\n",
    "# Create a dictionary with descriptions and their average vectors\n",
    "out_dict = {}\n",
    "for sen in fin:\n",
    "    average_vector = np.mean(np.array([get_embedding(x) for x in nltk.word_tokenize(remove_stopwords([sen]))]), axis=0)\n",
    "    dict_temp = {sen: average_vector}\n",
    "    out_dict.update(dict_temp)\n"
   ]
  },
  {
   "cell_type": "code",
   "execution_count": 27,
   "id": "09636fcf-2303-4624-884c-fd92e76a44bb",
   "metadata": {},
   "outputs": [],
   "source": [
    "# Cosine Similarity Function\n",
    "def get_sim(query_embedding, average_vector_doc):\n",
    "    sim = 1 - scipy.spatial.distance.cosine(query_embedding.flatten(), average_vector_doc.flatten())\n",
    "    return sim"
   ]
  },
  {
   "cell_type": "code",
   "execution_count": 28,
   "id": "53ace267-109c-446b-97cd-fadb997885ee",
   "metadata": {},
   "outputs": [],
   "source": [
    "## ranking Function to Retrieve Similar Products\n",
    "def Ranked_documents(query):\n",
    "    query_words = np.mean(np.array([get_embedding(x) for x in nltk.word_tokenize(query.lower())], dtype=float), axis=0)\n",
    "    rank = []\n",
    "    \n",
    "    # Calculate similarity with each document\n",
    "    for k, v in out_dict.items():\n",
    "        rank.append((k, get_sim(query_words, v)))\n",
    "    \n",
    "    # Sort based on similarity score (highest first)\n",
    "    rank = sorted(rank, key=lambda t: t[1], reverse=True)\n",
    "    \n",
    "    # Merge with original data to get product names\n",
    "    dd = pd.DataFrame(rank, columns=['Desc', 'score'])\n",
    "    rankfin = pd.merge(data1, dd, left_on='description', right_on='Desc')\n",
    "    rankfin = rankfin[['product_name', 'description', 'score']]\n",
    "    \n",
    "    print('Ranked Documents:')\n",
    "    return rankfin"
   ]
  },
  {
   "cell_type": "code",
   "execution_count": 37,
   "id": "dd52af41-2a5a-438b-817b-7f241e4686e4",
   "metadata": {},
   "outputs": [
    {
     "name": "stdin",
     "output_type": "stream",
     "text": [
      "Enter the product you are searching for -  womens clothing\n"
     ]
    },
    {
     "name": "stdout",
     "output_type": "stream",
     "text": [
      "Ranked Documents:\n",
      "Most Relevant Products are :\n"
     ]
    },
    {
     "data": {
      "text/html": [
       "<div>\n",
       "<style scoped>\n",
       "    .dataframe tbody tr th:only-of-type {\n",
       "        vertical-align: middle;\n",
       "    }\n",
       "\n",
       "    .dataframe tbody tr th {\n",
       "        vertical-align: top;\n",
       "    }\n",
       "\n",
       "    .dataframe thead th {\n",
       "        text-align: right;\n",
       "    }\n",
       "</style>\n",
       "<table border=\"1\" class=\"dataframe\">\n",
       "  <thead>\n",
       "    <tr style=\"text-align: right;\">\n",
       "      <th></th>\n",
       "      <th>product_name</th>\n",
       "      <th>description</th>\n",
       "      <th>score</th>\n",
       "    </tr>\n",
       "  </thead>\n",
       "  <tbody>\n",
       "    <tr>\n",
       "      <th>12339</th>\n",
       "      <td>Victorian Clothing Women's Printed Casual Shirt</td>\n",
       "      <td>victorian clothing women's printed casual shir...</td>\n",
       "      <td>0.783502</td>\n",
       "    </tr>\n",
       "    <tr>\n",
       "      <th>12098</th>\n",
       "      <td>Vitally Clothing Casual Printed Women's Kurti</td>\n",
       "      <td>vitally clothing casual printed women's kurti ...</td>\n",
       "      <td>0.772175</td>\n",
       "    </tr>\n",
       "    <tr>\n",
       "      <th>11988</th>\n",
       "      <td>C M Clothing Women's Printed Casual Shirt</td>\n",
       "      <td>clothing women's printed casual shirt yellow c...</td>\n",
       "      <td>0.760320</td>\n",
       "    </tr>\n",
       "    <tr>\n",
       "      <th>11915</th>\n",
       "      <td>Victorian Clothing Women's Printed Casual Shirt</td>\n",
       "      <td>victorian clothing women's printed casual shir...</td>\n",
       "      <td>0.759516</td>\n",
       "    </tr>\n",
       "    <tr>\n",
       "      <th>168</th>\n",
       "      <td>Lee Men's Jeans</td>\n",
       "      <td>lee men's jeans lee men's jeans for only rs. 2...</td>\n",
       "      <td>0.727139</td>\n",
       "    </tr>\n",
       "    <tr>\n",
       "      <th>...</th>\n",
       "      <td>...</td>\n",
       "      <td>...</td>\n",
       "      <td>...</td>\n",
       "    </tr>\n",
       "    <tr>\n",
       "      <th>11455</th>\n",
       "      <td>The Jewelbox Brass Brass Bangle</td>\n",
       "      <td>the jewelbox brass brass bangle the jewelbox b...</td>\n",
       "      <td>0.058910</td>\n",
       "    </tr>\n",
       "    <tr>\n",
       "      <th>10952</th>\n",
       "      <td>Klick Women's Leggings</td>\n",
       "      <td>klick women's leggings price: rs. 219</td>\n",
       "      <td>0.057232</td>\n",
       "    </tr>\n",
       "    <tr>\n",
       "      <th>3350</th>\n",
       "      <td>Claude Lorrain Patent Loafers Patent Loafers</td>\n",
       "      <td>claude lorrain patent loafers patent loafers c...</td>\n",
       "      <td>0.054839</td>\n",
       "    </tr>\n",
       "    <tr>\n",
       "      <th>553</th>\n",
       "      <td>Ozel Studio Casual Sleeveless Printed Women's Top</td>\n",
       "      <td>nan</td>\n",
       "      <td>NaN</td>\n",
       "    </tr>\n",
       "    <tr>\n",
       "      <th>17299</th>\n",
       "      <td>Amore Abstract Cushions Cover</td>\n",
       "      <td>nan</td>\n",
       "      <td>NaN</td>\n",
       "    </tr>\n",
       "  </tbody>\n",
       "</table>\n",
       "<p>20000 rows × 3 columns</p>\n",
       "</div>"
      ],
      "text/plain": [
       "                                            product_name  \\\n",
       "12339    Victorian Clothing Women's Printed Casual Shirt   \n",
       "12098      Vitally Clothing Casual Printed Women's Kurti   \n",
       "11988          C M Clothing Women's Printed Casual Shirt   \n",
       "11915    Victorian Clothing Women's Printed Casual Shirt   \n",
       "168                                      Lee Men's Jeans   \n",
       "...                                                  ...   \n",
       "11455                    The Jewelbox Brass Brass Bangle   \n",
       "10952                             Klick Women's Leggings   \n",
       "3350        Claude Lorrain Patent Loafers Patent Loafers   \n",
       "553    Ozel Studio Casual Sleeveless Printed Women's Top   \n",
       "17299                      Amore Abstract Cushions Cover   \n",
       "\n",
       "                                             description     score  \n",
       "12339  victorian clothing women's printed casual shir...  0.783502  \n",
       "12098  vitally clothing casual printed women's kurti ...  0.772175  \n",
       "11988  clothing women's printed casual shirt yellow c...  0.760320  \n",
       "11915  victorian clothing women's printed casual shir...  0.759516  \n",
       "168    lee men's jeans lee men's jeans for only rs. 2...  0.727139  \n",
       "...                                                  ...       ...  \n",
       "11455  the jewelbox brass brass bangle the jewelbox b...  0.058910  \n",
       "10952              klick women's leggings price: rs. 219  0.057232  \n",
       "3350   claude lorrain patent loafers patent loafers c...  0.054839  \n",
       "553                                                  nan       NaN  \n",
       "17299                                                nan       NaN  \n",
       "\n",
       "[20000 rows x 3 columns]"
      ]
     },
     "execution_count": 37,
     "metadata": {},
     "output_type": "execute_result"
    }
   ],
   "source": [
    "## Running the Search Query\n",
    "# Input query and run the ranking function\n",
    "query = input(\"Enter the product you are searching for - \")\n",
    "result = Ranked_documents(query)\n",
    "\n",
    "# Sort the result DataFrame by the score in descending order for most relevenat results\n",
    "result_sorted = result.sort_values(by='score', ascending=False)\n",
    "\n",
    "# Output the sorted result with most relevant product first\n",
    "print(\"Most Relevant Products are :\")\n",
    "result_sorted"
   ]
  },
  {
   "cell_type": "code",
   "execution_count": null,
   "id": "6de01158-837c-4ce1-918c-e94d21a2aa67",
   "metadata": {},
   "outputs": [],
   "source": []
  },
  {
   "cell_type": "markdown",
   "id": "63432d73-8abb-49e9-8f45-e250844bfcbf",
   "metadata": {},
   "source": [
    "## 3. Advanced Search Engine Using PyTerrier and Sentence-BERT"
   ]
  },
  {
   "cell_type": "markdown",
   "id": "16c7bd78-f353-4151-8ae2-02e19ca52c60",
   "metadata": {
    "jp-MarkdownHeadingCollapsed": true
   },
   "source": [
    "### Not able to do because of jvm d11"
   ]
  },
  {
   "cell_type": "code",
   "execution_count": 19,
   "id": "480673a6-9535-4675-af96-370f894c4c07",
   "metadata": {},
   "outputs": [
    {
     "name": "stderr",
     "output_type": "stream",
     "text": [
      "[nltk_data] Downloading package punkt to C:\\Users\\K Ravinder\n",
      "[nltk_data]     Reddy\\AppData\\Roaming\\nltk_data...\n",
      "[nltk_data]   Package punkt is already up-to-date!\n",
      "[nltk_data] Downloading package wordnet to C:\\Users\\K Ravinder\n",
      "[nltk_data]     Reddy\\AppData\\Roaming\\nltk_data...\n",
      "[nltk_data]   Package wordnet is already up-to-date!\n",
      "[nltk_data] Downloading package stopwords to C:\\Users\\K Ravinder\n",
      "[nltk_data]     Reddy\\AppData\\Roaming\\nltk_data...\n",
      "[nltk_data]   Package stopwords is already up-to-date!\n"
     ]
    },
    {
     "name": "stdout",
     "output_type": "stream",
     "text": [
      "Requirement already satisfied: python-terrier in c:\\users\\k ravinder reddy\\anaconda3\\lib\\site-packages (0.13.0)\n",
      "Requirement already satisfied: numpy in c:\\users\\k ravinder reddy\\anaconda3\\lib\\site-packages (from python-terrier) (1.26.4)\n",
      "Requirement already satisfied: pandas in c:\\users\\k ravinder reddy\\anaconda3\\lib\\site-packages (from python-terrier) (2.2.2)\n",
      "Requirement already satisfied: more-itertools in c:\\users\\k ravinder reddy\\anaconda3\\lib\\site-packages (from python-terrier) (10.1.0)\n",
      "Requirement already satisfied: tqdm in c:\\users\\k ravinder reddy\\anaconda3\\lib\\site-packages (from python-terrier) (4.66.4)\n",
      "Requirement already satisfied: requests in c:\\users\\k ravinder reddy\\anaconda3\\lib\\site-packages (from python-terrier) (2.32.2)\n",
      "Requirement already satisfied: ir-datasets>=0.3.2 in c:\\users\\k ravinder reddy\\anaconda3\\lib\\site-packages (from python-terrier) (0.5.9)\n",
      "Requirement already satisfied: wget in c:\\users\\k ravinder reddy\\anaconda3\\lib\\site-packages (from python-terrier) (3.2)\n",
      "Requirement already satisfied: pyjnius>=1.4.2 in c:\\users\\k ravinder reddy\\anaconda3\\lib\\site-packages (from python-terrier) (1.6.1)\n",
      "Requirement already satisfied: deprecated in c:\\users\\k ravinder reddy\\anaconda3\\lib\\site-packages (from python-terrier) (1.2.18)\n",
      "Requirement already satisfied: scipy in c:\\users\\k ravinder reddy\\anaconda3\\lib\\site-packages (from python-terrier) (1.13.1)\n",
      "Requirement already satisfied: ir-measures>=0.3.1 in c:\\users\\k ravinder reddy\\anaconda3\\lib\\site-packages (from python-terrier) (0.3.6)\n",
      "Requirement already satisfied: pytrec-eval-terrier>=0.5.3 in c:\\users\\k ravinder reddy\\anaconda3\\lib\\site-packages (from python-terrier) (0.5.6)\n",
      "Requirement already satisfied: jinja2 in c:\\users\\k ravinder reddy\\appdata\\roaming\\python\\python311\\site-packages (from python-terrier) (3.1.3)\n",
      "Requirement already satisfied: statsmodels in c:\\users\\k ravinder reddy\\anaconda3\\lib\\site-packages (from python-terrier) (0.14.4)\n",
      "Requirement already satisfied: dill in c:\\users\\k ravinder reddy\\anaconda3\\lib\\site-packages (from python-terrier) (0.3.8)\n",
      "Requirement already satisfied: joblib in c:\\users\\k ravinder reddy\\anaconda3\\lib\\site-packages (from python-terrier) (1.4.2)\n",
      "Requirement already satisfied: chest in c:\\users\\k ravinder reddy\\anaconda3\\lib\\site-packages (from python-terrier) (0.2.3)\n",
      "Requirement already satisfied: lz4 in c:\\users\\k ravinder reddy\\anaconda3\\lib\\site-packages (from python-terrier) (4.3.2)\n",
      "Requirement already satisfied: beautifulsoup4>=4.4.1 in c:\\users\\k ravinder reddy\\appdata\\roaming\\python\\python311\\site-packages (from ir-datasets>=0.3.2->python-terrier) (4.12.3)\n",
      "Requirement already satisfied: inscriptis>=2.2.0 in c:\\users\\k ravinder reddy\\anaconda3\\lib\\site-packages (from ir-datasets>=0.3.2->python-terrier) (2.5.3)\n",
      "Requirement already satisfied: lxml>=4.5.2 in c:\\users\\k ravinder reddy\\anaconda3\\lib\\site-packages (from ir-datasets>=0.3.2->python-terrier) (5.3.1)\n",
      "Requirement already satisfied: pyyaml>=5.3.1 in c:\\users\\k ravinder reddy\\appdata\\roaming\\python\\python311\\site-packages (from ir-datasets>=0.3.2->python-terrier) (6.0.1)\n",
      "Requirement already satisfied: trec-car-tools>=2.5.4 in c:\\users\\k ravinder reddy\\anaconda3\\lib\\site-packages (from ir-datasets>=0.3.2->python-terrier) (2.6)\n",
      "Requirement already satisfied: warc3-wet>=0.2.3 in c:\\users\\k ravinder reddy\\anaconda3\\lib\\site-packages (from ir-datasets>=0.3.2->python-terrier) (0.2.5)\n",
      "Requirement already satisfied: warc3-wet-clueweb09>=0.2.5 in c:\\users\\k ravinder reddy\\anaconda3\\lib\\site-packages (from ir-datasets>=0.3.2->python-terrier) (0.2.5)\n",
      "Requirement already satisfied: zlib-state>=0.1.3 in c:\\users\\k ravinder reddy\\anaconda3\\lib\\site-packages (from ir-datasets>=0.3.2->python-terrier) (0.1.9)\n",
      "Requirement already satisfied: ijson>=3.1.3 in c:\\users\\k ravinder reddy\\anaconda3\\lib\\site-packages (from ir-datasets>=0.3.2->python-terrier) (3.3.0)\n",
      "Requirement already satisfied: unlzw3>=0.2.1 in c:\\users\\k ravinder reddy\\anaconda3\\lib\\site-packages (from ir-datasets>=0.3.2->python-terrier) (0.2.3)\n",
      "Requirement already satisfied: charset-normalizer<4,>=2 in c:\\users\\k ravinder reddy\\appdata\\roaming\\python\\python311\\site-packages (from requests->python-terrier) (3.3.2)\n",
      "Requirement already satisfied: idna<4,>=2.5 in c:\\users\\k ravinder reddy\\appdata\\roaming\\python\\python311\\site-packages (from requests->python-terrier) (3.6)\n",
      "Requirement already satisfied: urllib3<3,>=1.21.1 in c:\\users\\k ravinder reddy\\appdata\\roaming\\python\\python311\\site-packages (from requests->python-terrier) (2.1.0)\n",
      "Requirement already satisfied: certifi>=2017.4.17 in c:\\users\\k ravinder reddy\\appdata\\roaming\\python\\python311\\site-packages (from requests->python-terrier) (2023.11.17)\n",
      "Requirement already satisfied: colorama in c:\\users\\k ravinder reddy\\appdata\\roaming\\python\\python311\\site-packages (from tqdm->python-terrier) (0.4.6)\n",
      "Requirement already satisfied: heapdict in c:\\users\\k ravinder reddy\\anaconda3\\lib\\site-packages (from chest->python-terrier) (1.0.1)\n",
      "Requirement already satisfied: wrapt<2,>=1.10 in c:\\users\\k ravinder reddy\\appdata\\roaming\\python\\python311\\site-packages (from deprecated->python-terrier) (1.14.1)\n",
      "Requirement already satisfied: MarkupSafe>=2.0 in c:\\users\\k ravinder reddy\\appdata\\roaming\\python\\python311\\site-packages (from jinja2->python-terrier) (2.1.4)\n",
      "Requirement already satisfied: python-dateutil>=2.8.2 in c:\\users\\k ravinder reddy\\appdata\\roaming\\python\\python311\\site-packages (from pandas->python-terrier) (2.8.2)\n",
      "Requirement already satisfied: pytz>=2020.1 in c:\\users\\k ravinder reddy\\anaconda3\\lib\\site-packages (from pandas->python-terrier) (2024.1)\n",
      "Requirement already satisfied: tzdata>=2022.7 in c:\\users\\k ravinder reddy\\anaconda3\\lib\\site-packages (from pandas->python-terrier) (2023.3)\n",
      "Requirement already satisfied: patsy>=0.5.6 in c:\\users\\k ravinder reddy\\anaconda3\\lib\\site-packages (from statsmodels->python-terrier) (1.0.1)\n",
      "Requirement already satisfied: packaging>=21.3 in c:\\users\\k ravinder reddy\\appdata\\roaming\\python\\python311\\site-packages (from statsmodels->python-terrier) (23.2)\n",
      "Requirement already satisfied: soupsieve>1.2 in c:\\users\\k ravinder reddy\\appdata\\roaming\\python\\python311\\site-packages (from beautifulsoup4>=4.4.1->ir-datasets>=0.3.2->python-terrier) (2.5)\n",
      "Requirement already satisfied: six>=1.5 in c:\\users\\k ravinder reddy\\appdata\\roaming\\python\\python311\\site-packages (from python-dateutil>=2.8.2->pandas->python-terrier) (1.16.0)\n",
      "Requirement already satisfied: cbor>=1.0.0 in c:\\users\\k ravinder reddy\\anaconda3\\lib\\site-packages (from trec-car-tools>=2.5.4->ir-datasets>=0.3.2->python-terrier) (1.0.0)\n"
     ]
    },
    {
     "name": "stderr",
     "output_type": "stream",
     "text": [
      "Java started and loaded: pyterrier.java, pyterrier.terrier.java [version=5.11 (build: craig.macdonald 2025-01-13 21:29), helper_version=0.0.8]\n",
      "C:\\Users\\K Ravinder Reddy\\AppData\\Local\\Temp\\ipykernel_20396\\2769446802.py:26: DeprecationWarning: Call to deprecated method pt.init(). Deprecated since version 0.11.0.\n",
      "java is now started automatically with default settings. To force initialisation early, run:\n",
      "pt.java.init() # optional, forces java initialisation\n",
      "  pt.init()\n"
     ]
    },
    {
     "name": "stdout",
     "output_type": "stream",
     "text": [
      "Collecting sentence-transformers\n",
      "  Downloading sentence_transformers-3.4.1-py3-none-any.whl.metadata (10 kB)\n",
      "Requirement already satisfied: transformers<5.0.0,>=4.41.0 in c:\\users\\k ravinder reddy\\anaconda3\\lib\\site-packages (from sentence-transformers) (4.48.3)\n",
      "Requirement already satisfied: tqdm in c:\\users\\k ravinder reddy\\anaconda3\\lib\\site-packages (from sentence-transformers) (4.66.4)\n",
      "Requirement already satisfied: torch>=1.11.0 in c:\\users\\k ravinder reddy\\anaconda3\\lib\\site-packages (from sentence-transformers) (2.6.0)\n",
      "Requirement already satisfied: scikit-learn in c:\\users\\k ravinder reddy\\anaconda3\\lib\\site-packages (from sentence-transformers) (1.5.1)\n",
      "Requirement already satisfied: scipy in c:\\users\\k ravinder reddy\\anaconda3\\lib\\site-packages (from sentence-transformers) (1.13.1)\n",
      "Requirement already satisfied: huggingface-hub>=0.20.0 in c:\\users\\k ravinder reddy\\anaconda3\\lib\\site-packages (from sentence-transformers) (0.28.1)\n",
      "Requirement already satisfied: Pillow in c:\\users\\k ravinder reddy\\appdata\\roaming\\python\\python311\\site-packages (from sentence-transformers) (10.2.0)\n",
      "Requirement already satisfied: filelock in c:\\users\\k ravinder reddy\\anaconda3\\lib\\site-packages (from huggingface-hub>=0.20.0->sentence-transformers) (3.13.1)\n",
      "Requirement already satisfied: fsspec>=2023.5.0 in c:\\users\\k ravinder reddy\\anaconda3\\lib\\site-packages (from huggingface-hub>=0.20.0->sentence-transformers) (2024.3.1)\n",
      "Requirement already satisfied: packaging>=20.9 in c:\\users\\k ravinder reddy\\appdata\\roaming\\python\\python311\\site-packages (from huggingface-hub>=0.20.0->sentence-transformers) (23.2)\n",
      "Requirement already satisfied: pyyaml>=5.1 in c:\\users\\k ravinder reddy\\appdata\\roaming\\python\\python311\\site-packages (from huggingface-hub>=0.20.0->sentence-transformers) (6.0.1)\n",
      "Requirement already satisfied: requests in c:\\users\\k ravinder reddy\\anaconda3\\lib\\site-packages (from huggingface-hub>=0.20.0->sentence-transformers) (2.32.2)\n",
      "Requirement already satisfied: typing-extensions>=3.7.4.3 in c:\\users\\k ravinder reddy\\anaconda3\\lib\\site-packages (from huggingface-hub>=0.20.0->sentence-transformers) (4.11.0)\n",
      "Requirement already satisfied: networkx in c:\\users\\k ravinder reddy\\anaconda3\\lib\\site-packages (from torch>=1.11.0->sentence-transformers) (3.4.2)\n",
      "Requirement already satisfied: jinja2 in c:\\users\\k ravinder reddy\\appdata\\roaming\\python\\python311\\site-packages (from torch>=1.11.0->sentence-transformers) (3.1.3)\n",
      "Requirement already satisfied: sympy==1.13.1 in c:\\users\\k ravinder reddy\\anaconda3\\lib\\site-packages (from torch>=1.11.0->sentence-transformers) (1.13.1)\n",
      "Requirement already satisfied: mpmath<1.4,>=1.1.0 in c:\\users\\k ravinder reddy\\anaconda3\\lib\\site-packages (from sympy==1.13.1->torch>=1.11.0->sentence-transformers) (1.3.0)\n",
      "Requirement already satisfied: colorama in c:\\users\\k ravinder reddy\\appdata\\roaming\\python\\python311\\site-packages (from tqdm->sentence-transformers) (0.4.6)\n",
      "Requirement already satisfied: numpy>=1.17 in c:\\users\\k ravinder reddy\\anaconda3\\lib\\site-packages (from transformers<5.0.0,>=4.41.0->sentence-transformers) (1.26.4)\n",
      "Requirement already satisfied: regex!=2019.12.17 in c:\\users\\k ravinder reddy\\anaconda3\\lib\\site-packages (from transformers<5.0.0,>=4.41.0->sentence-transformers) (2024.11.6)\n",
      "Requirement already satisfied: tokenizers<0.22,>=0.21 in c:\\users\\k ravinder reddy\\anaconda3\\lib\\site-packages (from transformers<5.0.0,>=4.41.0->sentence-transformers) (0.21.0)\n",
      "Requirement already satisfied: safetensors>=0.4.1 in c:\\users\\k ravinder reddy\\anaconda3\\lib\\site-packages (from transformers<5.0.0,>=4.41.0->sentence-transformers) (0.5.2)\n",
      "Requirement already satisfied: joblib>=1.2.0 in c:\\users\\k ravinder reddy\\anaconda3\\lib\\site-packages (from scikit-learn->sentence-transformers) (1.4.2)\n",
      "Requirement already satisfied: threadpoolctl>=3.1.0 in c:\\users\\k ravinder reddy\\anaconda3\\lib\\site-packages (from scikit-learn->sentence-transformers) (3.5.0)\n",
      "Requirement already satisfied: MarkupSafe>=2.0 in c:\\users\\k ravinder reddy\\appdata\\roaming\\python\\python311\\site-packages (from jinja2->torch>=1.11.0->sentence-transformers) (2.1.4)\n",
      "Requirement already satisfied: charset-normalizer<4,>=2 in c:\\users\\k ravinder reddy\\appdata\\roaming\\python\\python311\\site-packages (from requests->huggingface-hub>=0.20.0->sentence-transformers) (3.3.2)\n",
      "Requirement already satisfied: idna<4,>=2.5 in c:\\users\\k ravinder reddy\\appdata\\roaming\\python\\python311\\site-packages (from requests->huggingface-hub>=0.20.0->sentence-transformers) (3.6)\n",
      "Requirement already satisfied: urllib3<3,>=1.21.1 in c:\\users\\k ravinder reddy\\appdata\\roaming\\python\\python311\\site-packages (from requests->huggingface-hub>=0.20.0->sentence-transformers) (2.1.0)\n",
      "Requirement already satisfied: certifi>=2017.4.17 in c:\\users\\k ravinder reddy\\appdata\\roaming\\python\\python311\\site-packages (from requests->huggingface-hub>=0.20.0->sentence-transformers) (2023.11.17)\n",
      "Downloading sentence_transformers-3.4.1-py3-none-any.whl (275 kB)\n",
      "   ---------------------------------------- 0.0/275.9 kB ? eta -:--:--\n",
      "   ---- ----------------------------------- 30.7/275.9 kB 1.3 MB/s eta 0:00:01\n",
      "   ------------- -------------------------- 92.2/275.9 kB 1.3 MB/s eta 0:00:01\n",
      "   -------------------- ------------------- 143.4/275.9 kB 1.2 MB/s eta 0:00:01\n",
      "   ----------------------------- ---------- 204.8/275.9 kB 1.2 MB/s eta 0:00:01\n",
      "   ------------------------------------- -- 256.0/275.9 kB 1.3 MB/s eta 0:00:01\n",
      "   ---------------------------------------- 275.9/275.9 kB 1.1 MB/s eta 0:00:00\n",
      "Installing collected packages: sentence-transformers\n",
      "Successfully installed sentence-transformers-3.4.1\n",
      "WARNING:tensorflow:From C:\\Users\\K Ravinder Reddy\\AppData\\Roaming\\Python\\Python311\\site-packages\\keras\\src\\losses.py:2976: The name tf.losses.sparse_softmax_cross_entropy is deprecated. Please use tf.compat.v1.losses.sparse_softmax_cross_entropy instead.\n",
      "\n",
      "Collecting symspellpy\n",
      "  Downloading symspellpy-6.7.8-py3-none-any.whl.metadata (3.9 kB)\n",
      "Collecting editdistpy>=0.1.3 (from symspellpy)\n",
      "  Downloading editdistpy-0.1.5-cp311-cp311-win_amd64.whl.metadata (8.1 kB)\n",
      "Downloading symspellpy-6.7.8-py3-none-any.whl (2.6 MB)\n",
      "   ---------------------------------------- 0.0/2.6 MB ? eta -:--:--\n",
      "   ---------------------------------------- 0.0/2.6 MB 660.6 kB/s eta 0:00:04\n",
      "   - -------------------------------------- 0.1/2.6 MB 1.1 MB/s eta 0:00:03\n",
      "   -- ------------------------------------- 0.1/2.6 MB 1.2 MB/s eta 0:00:03\n",
      "   -- ------------------------------------- 0.2/2.6 MB 1.2 MB/s eta 0:00:03\n",
      "   --- ------------------------------------ 0.2/2.6 MB 1.3 MB/s eta 0:00:02\n",
      "   ---- ----------------------------------- 0.3/2.6 MB 1.2 MB/s eta 0:00:02\n",
      "   ----- ---------------------------------- 0.4/2.6 MB 1.2 MB/s eta 0:00:02\n",
      "   ------ --------------------------------- 0.4/2.6 MB 1.3 MB/s eta 0:00:02\n",
      "   ------ --------------------------------- 0.5/2.6 MB 1.2 MB/s eta 0:00:02\n",
      "   ------- -------------------------------- 0.5/2.6 MB 1.3 MB/s eta 0:00:02\n",
      "   -------- ------------------------------- 0.6/2.6 MB 1.3 MB/s eta 0:00:02\n",
      "   --------- ------------------------------ 0.6/2.6 MB 1.2 MB/s eta 0:00:02\n",
      "   ---------- ----------------------------- 0.7/2.6 MB 1.3 MB/s eta 0:00:02\n",
      "   ----------- ---------------------------- 0.7/2.6 MB 1.3 MB/s eta 0:00:02\n",
      "   ----------- ---------------------------- 0.8/2.6 MB 1.3 MB/s eta 0:00:02\n",
      "   ------------- -------------------------- 0.8/2.6 MB 1.3 MB/s eta 0:00:02\n",
      "   ------------- -------------------------- 0.9/2.6 MB 1.3 MB/s eta 0:00:02\n",
      "   -------------- ------------------------- 1.0/2.6 MB 1.3 MB/s eta 0:00:02\n",
      "   --------------- ------------------------ 1.0/2.6 MB 1.3 MB/s eta 0:00:02\n",
      "   ---------------- ----------------------- 1.1/2.6 MB 1.3 MB/s eta 0:00:02\n",
      "   ---------------- ----------------------- 1.1/2.6 MB 1.3 MB/s eta 0:00:02\n",
      "   ------------------ --------------------- 1.2/2.6 MB 1.3 MB/s eta 0:00:02\n",
      "   ------------------ --------------------- 1.2/2.6 MB 1.3 MB/s eta 0:00:02\n",
      "   ------------------- -------------------- 1.3/2.6 MB 1.3 MB/s eta 0:00:02\n",
      "   -------------------- ------------------- 1.3/2.6 MB 1.3 MB/s eta 0:00:01\n",
      "   --------------------- ------------------ 1.4/2.6 MB 1.3 MB/s eta 0:00:01\n",
      "   ---------------------- ----------------- 1.5/2.6 MB 1.3 MB/s eta 0:00:01\n",
      "   ----------------------- ---------------- 1.5/2.6 MB 1.3 MB/s eta 0:00:01\n",
      "   ----------------------- ---------------- 1.6/2.6 MB 1.3 MB/s eta 0:00:01\n",
      "   ------------------------ --------------- 1.6/2.6 MB 1.3 MB/s eta 0:00:01\n",
      "   ------------------------- -------------- 1.7/2.6 MB 1.3 MB/s eta 0:00:01\n",
      "   ------------------------- -------------- 1.7/2.6 MB 1.3 MB/s eta 0:00:01\n",
      "   -------------------------- ------------- 1.8/2.6 MB 1.3 MB/s eta 0:00:01\n",
      "   --------------------------- ------------ 1.8/2.6 MB 1.3 MB/s eta 0:00:01\n",
      "   ---------------------------- ----------- 1.9/2.6 MB 1.3 MB/s eta 0:00:01\n",
      "   ----------------------------- ---------- 1.9/2.6 MB 1.3 MB/s eta 0:00:01\n",
      "   ------------------------------ --------- 2.0/2.6 MB 1.3 MB/s eta 0:00:01\n",
      "   ------------------------------- -------- 2.0/2.6 MB 1.3 MB/s eta 0:00:01\n",
      "   ------------------------------- -------- 2.1/2.6 MB 1.3 MB/s eta 0:00:01\n",
      "   -------------------------------- ------- 2.1/2.6 MB 1.3 MB/s eta 0:00:01\n",
      "   --------------------------------- ------ 2.2/2.6 MB 1.3 MB/s eta 0:00:01\n",
      "   ---------------------------------- ----- 2.3/2.6 MB 1.3 MB/s eta 0:00:01\n",
      "   ----------------------------------- ---- 2.3/2.6 MB 1.3 MB/s eta 0:00:01\n",
      "   ------------------------------------ --- 2.4/2.6 MB 1.3 MB/s eta 0:00:01\n",
      "   ------------------------------------- -- 2.4/2.6 MB 1.3 MB/s eta 0:00:01\n",
      "   ------------------------------------- -- 2.5/2.6 MB 1.3 MB/s eta 0:00:01\n",
      "   -------------------------------------- - 2.5/2.6 MB 1.3 MB/s eta 0:00:01\n",
      "   ---------------------------------------  2.6/2.6 MB 1.3 MB/s eta 0:00:01\n",
      "   ---------------------------------------- 2.6/2.6 MB 1.3 MB/s eta 0:00:00\n",
      "Downloading editdistpy-0.1.5-cp311-cp311-win_amd64.whl (142 kB)\n",
      "   ---------------------------------------- 0.0/142.9 kB ? eta -:--:--\n",
      "   ----------------- ---------------------- 61.4/142.9 kB 1.6 MB/s eta 0:00:01\n",
      "   ------------------------------- -------- 112.6/142.9 kB 1.3 MB/s eta 0:00:01\n",
      "   ------------------------------------- -- 133.1/142.9 kB 1.3 MB/s eta 0:00:01\n",
      "   ---------------------------------------- 142.9/142.9 kB 1.1 MB/s eta 0:00:00\n",
      "Installing collected packages: editdistpy, symspellpy\n",
      "Successfully installed editdistpy-0.1.5 symspellpy-6.7.8\n"
     ]
    },
    {
     "ename": "FileNotFoundError",
     "evalue": "[Errno 2] No such file or directory: '/content/drive/MyDrive/flipkart_com-ecommerce_sample.csv'",
     "output_type": "error",
     "traceback": [
      "\u001b[1;31m---------------------------------------------------------------------------\u001b[0m",
      "\u001b[1;31mFileNotFoundError\u001b[0m                         Traceback (most recent call last)",
      "Cell \u001b[1;32mIn[19], line 40\u001b[0m\n\u001b[0;32m     37\u001b[0m \u001b[38;5;28;01mfrom\u001b[39;00m \u001b[38;5;21;01msklearn\u001b[39;00m\u001b[38;5;21;01m.\u001b[39;00m\u001b[38;5;21;01mmetrics\u001b[39;00m\u001b[38;5;21;01m.\u001b[39;00m\u001b[38;5;21;01mpairwise\u001b[39;00m \u001b[38;5;28;01mimport\u001b[39;00m cosine_similarity\n\u001b[0;32m     39\u001b[0m \u001b[38;5;66;03m# Load the dataset\u001b[39;00m\n\u001b[1;32m---> 40\u001b[0m df \u001b[38;5;241m=\u001b[39m \u001b[43mpd\u001b[49m\u001b[38;5;241;43m.\u001b[39;49m\u001b[43mread_csv\u001b[49m\u001b[43m(\u001b[49m\u001b[38;5;124;43m\"\u001b[39;49m\u001b[38;5;124;43m/content/drive/MyDrive/flipkart_com-ecommerce_sample.csv\u001b[39;49m\u001b[38;5;124;43m\"\u001b[39;49m\u001b[43m)\u001b[49m\n\u001b[0;32m     42\u001b[0m \u001b[38;5;66;03m# Display the first few rows of the data\u001b[39;00m\n\u001b[0;32m     43\u001b[0m df\u001b[38;5;241m.\u001b[39mhead()\n",
      "File \u001b[1;32m~\\anaconda3\\Lib\\site-packages\\pandas\\io\\parsers\\readers.py:1026\u001b[0m, in \u001b[0;36mread_csv\u001b[1;34m(filepath_or_buffer, sep, delimiter, header, names, index_col, usecols, dtype, engine, converters, true_values, false_values, skipinitialspace, skiprows, skipfooter, nrows, na_values, keep_default_na, na_filter, verbose, skip_blank_lines, parse_dates, infer_datetime_format, keep_date_col, date_parser, date_format, dayfirst, cache_dates, iterator, chunksize, compression, thousands, decimal, lineterminator, quotechar, quoting, doublequote, escapechar, comment, encoding, encoding_errors, dialect, on_bad_lines, delim_whitespace, low_memory, memory_map, float_precision, storage_options, dtype_backend)\u001b[0m\n\u001b[0;32m   1013\u001b[0m kwds_defaults \u001b[38;5;241m=\u001b[39m _refine_defaults_read(\n\u001b[0;32m   1014\u001b[0m     dialect,\n\u001b[0;32m   1015\u001b[0m     delimiter,\n\u001b[1;32m   (...)\u001b[0m\n\u001b[0;32m   1022\u001b[0m     dtype_backend\u001b[38;5;241m=\u001b[39mdtype_backend,\n\u001b[0;32m   1023\u001b[0m )\n\u001b[0;32m   1024\u001b[0m kwds\u001b[38;5;241m.\u001b[39mupdate(kwds_defaults)\n\u001b[1;32m-> 1026\u001b[0m \u001b[38;5;28;01mreturn\u001b[39;00m \u001b[43m_read\u001b[49m\u001b[43m(\u001b[49m\u001b[43mfilepath_or_buffer\u001b[49m\u001b[43m,\u001b[49m\u001b[43m \u001b[49m\u001b[43mkwds\u001b[49m\u001b[43m)\u001b[49m\n",
      "File \u001b[1;32m~\\anaconda3\\Lib\\site-packages\\pandas\\io\\parsers\\readers.py:620\u001b[0m, in \u001b[0;36m_read\u001b[1;34m(filepath_or_buffer, kwds)\u001b[0m\n\u001b[0;32m    617\u001b[0m _validate_names(kwds\u001b[38;5;241m.\u001b[39mget(\u001b[38;5;124m\"\u001b[39m\u001b[38;5;124mnames\u001b[39m\u001b[38;5;124m\"\u001b[39m, \u001b[38;5;28;01mNone\u001b[39;00m))\n\u001b[0;32m    619\u001b[0m \u001b[38;5;66;03m# Create the parser.\u001b[39;00m\n\u001b[1;32m--> 620\u001b[0m parser \u001b[38;5;241m=\u001b[39m \u001b[43mTextFileReader\u001b[49m\u001b[43m(\u001b[49m\u001b[43mfilepath_or_buffer\u001b[49m\u001b[43m,\u001b[49m\u001b[43m \u001b[49m\u001b[38;5;241;43m*\u001b[39;49m\u001b[38;5;241;43m*\u001b[39;49m\u001b[43mkwds\u001b[49m\u001b[43m)\u001b[49m\n\u001b[0;32m    622\u001b[0m \u001b[38;5;28;01mif\u001b[39;00m chunksize \u001b[38;5;129;01mor\u001b[39;00m iterator:\n\u001b[0;32m    623\u001b[0m     \u001b[38;5;28;01mreturn\u001b[39;00m parser\n",
      "File \u001b[1;32m~\\anaconda3\\Lib\\site-packages\\pandas\\io\\parsers\\readers.py:1620\u001b[0m, in \u001b[0;36mTextFileReader.__init__\u001b[1;34m(self, f, engine, **kwds)\u001b[0m\n\u001b[0;32m   1617\u001b[0m     \u001b[38;5;28mself\u001b[39m\u001b[38;5;241m.\u001b[39moptions[\u001b[38;5;124m\"\u001b[39m\u001b[38;5;124mhas_index_names\u001b[39m\u001b[38;5;124m\"\u001b[39m] \u001b[38;5;241m=\u001b[39m kwds[\u001b[38;5;124m\"\u001b[39m\u001b[38;5;124mhas_index_names\u001b[39m\u001b[38;5;124m\"\u001b[39m]\n\u001b[0;32m   1619\u001b[0m \u001b[38;5;28mself\u001b[39m\u001b[38;5;241m.\u001b[39mhandles: IOHandles \u001b[38;5;241m|\u001b[39m \u001b[38;5;28;01mNone\u001b[39;00m \u001b[38;5;241m=\u001b[39m \u001b[38;5;28;01mNone\u001b[39;00m\n\u001b[1;32m-> 1620\u001b[0m \u001b[38;5;28mself\u001b[39m\u001b[38;5;241m.\u001b[39m_engine \u001b[38;5;241m=\u001b[39m \u001b[38;5;28;43mself\u001b[39;49m\u001b[38;5;241;43m.\u001b[39;49m\u001b[43m_make_engine\u001b[49m\u001b[43m(\u001b[49m\u001b[43mf\u001b[49m\u001b[43m,\u001b[49m\u001b[43m \u001b[49m\u001b[38;5;28;43mself\u001b[39;49m\u001b[38;5;241;43m.\u001b[39;49m\u001b[43mengine\u001b[49m\u001b[43m)\u001b[49m\n",
      "File \u001b[1;32m~\\anaconda3\\Lib\\site-packages\\pandas\\io\\parsers\\readers.py:1880\u001b[0m, in \u001b[0;36mTextFileReader._make_engine\u001b[1;34m(self, f, engine)\u001b[0m\n\u001b[0;32m   1878\u001b[0m     \u001b[38;5;28;01mif\u001b[39;00m \u001b[38;5;124m\"\u001b[39m\u001b[38;5;124mb\u001b[39m\u001b[38;5;124m\"\u001b[39m \u001b[38;5;129;01mnot\u001b[39;00m \u001b[38;5;129;01min\u001b[39;00m mode:\n\u001b[0;32m   1879\u001b[0m         mode \u001b[38;5;241m+\u001b[39m\u001b[38;5;241m=\u001b[39m \u001b[38;5;124m\"\u001b[39m\u001b[38;5;124mb\u001b[39m\u001b[38;5;124m\"\u001b[39m\n\u001b[1;32m-> 1880\u001b[0m \u001b[38;5;28mself\u001b[39m\u001b[38;5;241m.\u001b[39mhandles \u001b[38;5;241m=\u001b[39m \u001b[43mget_handle\u001b[49m\u001b[43m(\u001b[49m\n\u001b[0;32m   1881\u001b[0m \u001b[43m    \u001b[49m\u001b[43mf\u001b[49m\u001b[43m,\u001b[49m\n\u001b[0;32m   1882\u001b[0m \u001b[43m    \u001b[49m\u001b[43mmode\u001b[49m\u001b[43m,\u001b[49m\n\u001b[0;32m   1883\u001b[0m \u001b[43m    \u001b[49m\u001b[43mencoding\u001b[49m\u001b[38;5;241;43m=\u001b[39;49m\u001b[38;5;28;43mself\u001b[39;49m\u001b[38;5;241;43m.\u001b[39;49m\u001b[43moptions\u001b[49m\u001b[38;5;241;43m.\u001b[39;49m\u001b[43mget\u001b[49m\u001b[43m(\u001b[49m\u001b[38;5;124;43m\"\u001b[39;49m\u001b[38;5;124;43mencoding\u001b[39;49m\u001b[38;5;124;43m\"\u001b[39;49m\u001b[43m,\u001b[49m\u001b[43m \u001b[49m\u001b[38;5;28;43;01mNone\u001b[39;49;00m\u001b[43m)\u001b[49m\u001b[43m,\u001b[49m\n\u001b[0;32m   1884\u001b[0m \u001b[43m    \u001b[49m\u001b[43mcompression\u001b[49m\u001b[38;5;241;43m=\u001b[39;49m\u001b[38;5;28;43mself\u001b[39;49m\u001b[38;5;241;43m.\u001b[39;49m\u001b[43moptions\u001b[49m\u001b[38;5;241;43m.\u001b[39;49m\u001b[43mget\u001b[49m\u001b[43m(\u001b[49m\u001b[38;5;124;43m\"\u001b[39;49m\u001b[38;5;124;43mcompression\u001b[39;49m\u001b[38;5;124;43m\"\u001b[39;49m\u001b[43m,\u001b[49m\u001b[43m \u001b[49m\u001b[38;5;28;43;01mNone\u001b[39;49;00m\u001b[43m)\u001b[49m\u001b[43m,\u001b[49m\n\u001b[0;32m   1885\u001b[0m \u001b[43m    \u001b[49m\u001b[43mmemory_map\u001b[49m\u001b[38;5;241;43m=\u001b[39;49m\u001b[38;5;28;43mself\u001b[39;49m\u001b[38;5;241;43m.\u001b[39;49m\u001b[43moptions\u001b[49m\u001b[38;5;241;43m.\u001b[39;49m\u001b[43mget\u001b[49m\u001b[43m(\u001b[49m\u001b[38;5;124;43m\"\u001b[39;49m\u001b[38;5;124;43mmemory_map\u001b[39;49m\u001b[38;5;124;43m\"\u001b[39;49m\u001b[43m,\u001b[49m\u001b[43m \u001b[49m\u001b[38;5;28;43;01mFalse\u001b[39;49;00m\u001b[43m)\u001b[49m\u001b[43m,\u001b[49m\n\u001b[0;32m   1886\u001b[0m \u001b[43m    \u001b[49m\u001b[43mis_text\u001b[49m\u001b[38;5;241;43m=\u001b[39;49m\u001b[43mis_text\u001b[49m\u001b[43m,\u001b[49m\n\u001b[0;32m   1887\u001b[0m \u001b[43m    \u001b[49m\u001b[43merrors\u001b[49m\u001b[38;5;241;43m=\u001b[39;49m\u001b[38;5;28;43mself\u001b[39;49m\u001b[38;5;241;43m.\u001b[39;49m\u001b[43moptions\u001b[49m\u001b[38;5;241;43m.\u001b[39;49m\u001b[43mget\u001b[49m\u001b[43m(\u001b[49m\u001b[38;5;124;43m\"\u001b[39;49m\u001b[38;5;124;43mencoding_errors\u001b[39;49m\u001b[38;5;124;43m\"\u001b[39;49m\u001b[43m,\u001b[49m\u001b[43m \u001b[49m\u001b[38;5;124;43m\"\u001b[39;49m\u001b[38;5;124;43mstrict\u001b[39;49m\u001b[38;5;124;43m\"\u001b[39;49m\u001b[43m)\u001b[49m\u001b[43m,\u001b[49m\n\u001b[0;32m   1888\u001b[0m \u001b[43m    \u001b[49m\u001b[43mstorage_options\u001b[49m\u001b[38;5;241;43m=\u001b[39;49m\u001b[38;5;28;43mself\u001b[39;49m\u001b[38;5;241;43m.\u001b[39;49m\u001b[43moptions\u001b[49m\u001b[38;5;241;43m.\u001b[39;49m\u001b[43mget\u001b[49m\u001b[43m(\u001b[49m\u001b[38;5;124;43m\"\u001b[39;49m\u001b[38;5;124;43mstorage_options\u001b[39;49m\u001b[38;5;124;43m\"\u001b[39;49m\u001b[43m,\u001b[49m\u001b[43m \u001b[49m\u001b[38;5;28;43;01mNone\u001b[39;49;00m\u001b[43m)\u001b[49m\u001b[43m,\u001b[49m\n\u001b[0;32m   1889\u001b[0m \u001b[43m\u001b[49m\u001b[43m)\u001b[49m\n\u001b[0;32m   1890\u001b[0m \u001b[38;5;28;01massert\u001b[39;00m \u001b[38;5;28mself\u001b[39m\u001b[38;5;241m.\u001b[39mhandles \u001b[38;5;129;01mis\u001b[39;00m \u001b[38;5;129;01mnot\u001b[39;00m \u001b[38;5;28;01mNone\u001b[39;00m\n\u001b[0;32m   1891\u001b[0m f \u001b[38;5;241m=\u001b[39m \u001b[38;5;28mself\u001b[39m\u001b[38;5;241m.\u001b[39mhandles\u001b[38;5;241m.\u001b[39mhandle\n",
      "File \u001b[1;32m~\\anaconda3\\Lib\\site-packages\\pandas\\io\\common.py:873\u001b[0m, in \u001b[0;36mget_handle\u001b[1;34m(path_or_buf, mode, encoding, compression, memory_map, is_text, errors, storage_options)\u001b[0m\n\u001b[0;32m    868\u001b[0m \u001b[38;5;28;01melif\u001b[39;00m \u001b[38;5;28misinstance\u001b[39m(handle, \u001b[38;5;28mstr\u001b[39m):\n\u001b[0;32m    869\u001b[0m     \u001b[38;5;66;03m# Check whether the filename is to be opened in binary mode.\u001b[39;00m\n\u001b[0;32m    870\u001b[0m     \u001b[38;5;66;03m# Binary mode does not support 'encoding' and 'newline'.\u001b[39;00m\n\u001b[0;32m    871\u001b[0m     \u001b[38;5;28;01mif\u001b[39;00m ioargs\u001b[38;5;241m.\u001b[39mencoding \u001b[38;5;129;01mand\u001b[39;00m \u001b[38;5;124m\"\u001b[39m\u001b[38;5;124mb\u001b[39m\u001b[38;5;124m\"\u001b[39m \u001b[38;5;129;01mnot\u001b[39;00m \u001b[38;5;129;01min\u001b[39;00m ioargs\u001b[38;5;241m.\u001b[39mmode:\n\u001b[0;32m    872\u001b[0m         \u001b[38;5;66;03m# Encoding\u001b[39;00m\n\u001b[1;32m--> 873\u001b[0m         handle \u001b[38;5;241m=\u001b[39m \u001b[38;5;28;43mopen\u001b[39;49m\u001b[43m(\u001b[49m\n\u001b[0;32m    874\u001b[0m \u001b[43m            \u001b[49m\u001b[43mhandle\u001b[49m\u001b[43m,\u001b[49m\n\u001b[0;32m    875\u001b[0m \u001b[43m            \u001b[49m\u001b[43mioargs\u001b[49m\u001b[38;5;241;43m.\u001b[39;49m\u001b[43mmode\u001b[49m\u001b[43m,\u001b[49m\n\u001b[0;32m    876\u001b[0m \u001b[43m            \u001b[49m\u001b[43mencoding\u001b[49m\u001b[38;5;241;43m=\u001b[39;49m\u001b[43mioargs\u001b[49m\u001b[38;5;241;43m.\u001b[39;49m\u001b[43mencoding\u001b[49m\u001b[43m,\u001b[49m\n\u001b[0;32m    877\u001b[0m \u001b[43m            \u001b[49m\u001b[43merrors\u001b[49m\u001b[38;5;241;43m=\u001b[39;49m\u001b[43merrors\u001b[49m\u001b[43m,\u001b[49m\n\u001b[0;32m    878\u001b[0m \u001b[43m            \u001b[49m\u001b[43mnewline\u001b[49m\u001b[38;5;241;43m=\u001b[39;49m\u001b[38;5;124;43m\"\u001b[39;49m\u001b[38;5;124;43m\"\u001b[39;49m\u001b[43m,\u001b[49m\n\u001b[0;32m    879\u001b[0m \u001b[43m        \u001b[49m\u001b[43m)\u001b[49m\n\u001b[0;32m    880\u001b[0m     \u001b[38;5;28;01melse\u001b[39;00m:\n\u001b[0;32m    881\u001b[0m         \u001b[38;5;66;03m# Binary mode\u001b[39;00m\n\u001b[0;32m    882\u001b[0m         handle \u001b[38;5;241m=\u001b[39m \u001b[38;5;28mopen\u001b[39m(handle, ioargs\u001b[38;5;241m.\u001b[39mmode)\n",
      "\u001b[1;31mFileNotFoundError\u001b[0m: [Errno 2] No such file or directory: '/content/drive/MyDrive/flipkart_com-ecommerce_sample.csv'"
     ]
    }
   ],
   "source": [
    "\n",
    "# Import necessary libraries\n",
    "import pandas as pd\n",
    "import numpy as np\n",
    "import seaborn as sns\n",
    "import matplotlib.pyplot as plt\n",
    "import string\n",
    "import re\n",
    "import nltk\n",
    "\n",
    "# Downloading nltk resources\n",
    "nltk.download('punkt')\n",
    "nltk.download('wordnet')\n",
    "nltk.download('stopwords')\n",
    "\n",
    "from nltk.corpus import stopwords\n",
    "from nltk.tokenize import word_tokenize\n",
    "from nltk.stem.wordnet import WordNetLemmatizer\n",
    "\n",
    "lem = WordNetLemmatizer()\n",
    "stop_words = set(stopwords.words('english'))\n",
    "\n",
    "# Install and initialize PyTerrier\n",
    "!pip install python-terrier\n",
    "import pyterrier as pt\n",
    "if not pt.started():\n",
    "    pt.init()\n",
    "\n",
    "# Install Sentence-BERT for sentence embeddings\n",
    "!pip install -U sentence-transformers\n",
    "from sentence_transformers import SentenceTransformer\n",
    "\n",
    "# Install SymSpell for spell correction\n",
    "!pip install symspellpy\n",
    "from symspellpy.symspellpy import SymSpell, Verbosity\n",
    "\n",
    "# Install scikit-learn for cosine similarity\n",
    "from sklearn.metrics.pairwise import cosine_similarity\n",
    "\n",
    "# Load the dataset\n",
    "df = pd.read_csv(\"/content/drive/MyDrive/flipkart_com-ecommerce_sample.csv\")\n",
    "\n",
    "# Display the first few rows of the data\n",
    "df.head()\n"
   ]
  },
  {
   "cell_type": "code",
   "execution_count": 3,
   "id": "6a28850e-9edb-4efb-aeff-8aec0ef54d65",
   "metadata": {},
   "outputs": [
    {
     "name": "stdout",
     "output_type": "stream",
     "text": [
      "Requirement already satisfied: python-terrier in c:\\users\\k ravinder reddy\\anaconda3\\lib\\site-packages (0.13.0)\n",
      "Requirement already satisfied: numpy in c:\\users\\k ravinder reddy\\anaconda3\\lib\\site-packages (from python-terrier) (1.26.4)\n",
      "Requirement already satisfied: pandas in c:\\users\\k ravinder reddy\\anaconda3\\lib\\site-packages (from python-terrier) (2.2.2)\n",
      "Requirement already satisfied: more-itertools in c:\\users\\k ravinder reddy\\anaconda3\\lib\\site-packages (from python-terrier) (10.1.0)\n",
      "Requirement already satisfied: tqdm in c:\\users\\k ravinder reddy\\anaconda3\\lib\\site-packages (from python-terrier) (4.66.4)\n",
      "Requirement already satisfied: requests in c:\\users\\k ravinder reddy\\anaconda3\\lib\\site-packages (from python-terrier) (2.32.2)\n",
      "Requirement already satisfied: ir-datasets>=0.3.2 in c:\\users\\k ravinder reddy\\anaconda3\\lib\\site-packages (from python-terrier) (0.5.9)\n",
      "Requirement already satisfied: wget in c:\\users\\k ravinder reddy\\anaconda3\\lib\\site-packages (from python-terrier) (3.2)\n",
      "Requirement already satisfied: pyjnius>=1.4.2 in c:\\users\\k ravinder reddy\\anaconda3\\lib\\site-packages (from python-terrier) (1.6.1)\n",
      "Requirement already satisfied: deprecated in c:\\users\\k ravinder reddy\\anaconda3\\lib\\site-packages (from python-terrier) (1.2.18)\n",
      "Requirement already satisfied: scipy in c:\\users\\k ravinder reddy\\anaconda3\\lib\\site-packages (from python-terrier) (1.13.1)\n",
      "Requirement already satisfied: ir-measures>=0.3.1 in c:\\users\\k ravinder reddy\\anaconda3\\lib\\site-packages (from python-terrier) (0.3.6)\n",
      "Requirement already satisfied: pytrec-eval-terrier>=0.5.3 in c:\\users\\k ravinder reddy\\anaconda3\\lib\\site-packages (from python-terrier) (0.5.6)\n",
      "Requirement already satisfied: jinja2 in c:\\users\\k ravinder reddy\\appdata\\roaming\\python\\python311\\site-packages (from python-terrier) (3.1.3)\n",
      "Requirement already satisfied: statsmodels in c:\\users\\k ravinder reddy\\anaconda3\\lib\\site-packages (from python-terrier) (0.14.4)\n",
      "Requirement already satisfied: dill in c:\\users\\k ravinder reddy\\anaconda3\\lib\\site-packages (from python-terrier) (0.3.8)\n",
      "Requirement already satisfied: joblib in c:\\users\\k ravinder reddy\\anaconda3\\lib\\site-packages (from python-terrier) (1.4.2)\n",
      "Requirement already satisfied: chest in c:\\users\\k ravinder reddy\\anaconda3\\lib\\site-packages (from python-terrier) (0.2.3)\n",
      "Requirement already satisfied: lz4 in c:\\users\\k ravinder reddy\\anaconda3\\lib\\site-packages (from python-terrier) (4.3.2)\n",
      "Requirement already satisfied: beautifulsoup4>=4.4.1 in c:\\users\\k ravinder reddy\\appdata\\roaming\\python\\python311\\site-packages (from ir-datasets>=0.3.2->python-terrier) (4.12.3)\n",
      "Requirement already satisfied: inscriptis>=2.2.0 in c:\\users\\k ravinder reddy\\anaconda3\\lib\\site-packages (from ir-datasets>=0.3.2->python-terrier) (2.5.3)\n",
      "Requirement already satisfied: lxml>=4.5.2 in c:\\users\\k ravinder reddy\\anaconda3\\lib\\site-packages (from ir-datasets>=0.3.2->python-terrier) (5.3.1)\n",
      "Requirement already satisfied: pyyaml>=5.3.1 in c:\\users\\k ravinder reddy\\appdata\\roaming\\python\\python311\\site-packages (from ir-datasets>=0.3.2->python-terrier) (6.0.1)\n",
      "Requirement already satisfied: trec-car-tools>=2.5.4 in c:\\users\\k ravinder reddy\\anaconda3\\lib\\site-packages (from ir-datasets>=0.3.2->python-terrier) (2.6)\n",
      "Requirement already satisfied: warc3-wet>=0.2.3 in c:\\users\\k ravinder reddy\\anaconda3\\lib\\site-packages (from ir-datasets>=0.3.2->python-terrier) (0.2.5)\n",
      "Requirement already satisfied: warc3-wet-clueweb09>=0.2.5 in c:\\users\\k ravinder reddy\\anaconda3\\lib\\site-packages (from ir-datasets>=0.3.2->python-terrier) (0.2.5)\n",
      "Requirement already satisfied: zlib-state>=0.1.3 in c:\\users\\k ravinder reddy\\anaconda3\\lib\\site-packages (from ir-datasets>=0.3.2->python-terrier) (0.1.9)\n",
      "Requirement already satisfied: ijson>=3.1.3 in c:\\users\\k ravinder reddy\\anaconda3\\lib\\site-packages (from ir-datasets>=0.3.2->python-terrier) (3.3.0)\n",
      "Requirement already satisfied: unlzw3>=0.2.1 in c:\\users\\k ravinder reddy\\anaconda3\\lib\\site-packages (from ir-datasets>=0.3.2->python-terrier) (0.2.3)\n",
      "Requirement already satisfied: charset-normalizer<4,>=2 in c:\\users\\k ravinder reddy\\appdata\\roaming\\python\\python311\\site-packages (from requests->python-terrier) (3.3.2)\n",
      "Requirement already satisfied: idna<4,>=2.5 in c:\\users\\k ravinder reddy\\appdata\\roaming\\python\\python311\\site-packages (from requests->python-terrier) (3.6)\n",
      "Requirement already satisfied: urllib3<3,>=1.21.1 in c:\\users\\k ravinder reddy\\appdata\\roaming\\python\\python311\\site-packages (from requests->python-terrier) (2.1.0)\n",
      "Requirement already satisfied: certifi>=2017.4.17 in c:\\users\\k ravinder reddy\\appdata\\roaming\\python\\python311\\site-packages (from requests->python-terrier) (2023.11.17)\n",
      "Requirement already satisfied: colorama in c:\\users\\k ravinder reddy\\appdata\\roaming\\python\\python311\\site-packages (from tqdm->python-terrier) (0.4.6)\n",
      "Requirement already satisfied: heapdict in c:\\users\\k ravinder reddy\\anaconda3\\lib\\site-packages (from chest->python-terrier) (1.0.1)\n",
      "Requirement already satisfied: wrapt<2,>=1.10 in c:\\users\\k ravinder reddy\\appdata\\roaming\\python\\python311\\site-packages (from deprecated->python-terrier) (1.14.1)\n",
      "Requirement already satisfied: MarkupSafe>=2.0 in c:\\users\\k ravinder reddy\\appdata\\roaming\\python\\python311\\site-packages (from jinja2->python-terrier) (2.1.4)\n",
      "Requirement already satisfied: python-dateutil>=2.8.2 in c:\\users\\k ravinder reddy\\appdata\\roaming\\python\\python311\\site-packages (from pandas->python-terrier) (2.8.2)\n",
      "Requirement already satisfied: pytz>=2020.1 in c:\\users\\k ravinder reddy\\anaconda3\\lib\\site-packages (from pandas->python-terrier) (2024.1)\n",
      "Requirement already satisfied: tzdata>=2022.7 in c:\\users\\k ravinder reddy\\anaconda3\\lib\\site-packages (from pandas->python-terrier) (2023.3)\n",
      "Requirement already satisfied: patsy>=0.5.6 in c:\\users\\k ravinder reddy\\anaconda3\\lib\\site-packages (from statsmodels->python-terrier) (1.0.1)\n",
      "Requirement already satisfied: packaging>=21.3 in c:\\users\\k ravinder reddy\\appdata\\roaming\\python\\python311\\site-packages (from statsmodels->python-terrier) (23.2)\n",
      "Requirement already satisfied: soupsieve>1.2 in c:\\users\\k ravinder reddy\\appdata\\roaming\\python\\python311\\site-packages (from beautifulsoup4>=4.4.1->ir-datasets>=0.3.2->python-terrier) (2.5)\n",
      "Requirement already satisfied: six>=1.5 in c:\\users\\k ravinder reddy\\appdata\\roaming\\python\\python311\\site-packages (from python-dateutil>=2.8.2->pandas->python-terrier) (1.16.0)\n",
      "Requirement already satisfied: cbor>=1.0.0 in c:\\users\\k ravinder reddy\\anaconda3\\lib\\site-packages (from trec-car-tools>=2.5.4->ir-datasets>=0.3.2->python-terrier) (1.0.0)\n"
     ]
    }
   ],
   "source": [
    "!pip install python-terrier"
   ]
  },
  {
   "cell_type": "code",
   "execution_count": 6,
   "id": "86cf84fb-bcf5-4c95-97af-15513d4bb1f1",
   "metadata": {},
   "outputs": [
    {
     "name": "stderr",
     "output_type": "stream",
     "text": [
      "C:\\Users\\K Ravinder Reddy\\AppData\\Local\\Temp\\ipykernel_10948\\2437485481.py:2: DeprecationWarning: Call to deprecated function (or staticmethod) started. (use pt.java.started() instead) -- Deprecated since version 0.11.0.\n",
      "  if not pt.started():\n"
     ]
    },
    {
     "ename": "Exception",
     "evalue": "Unable to create jni env, no jvm dll found.",
     "output_type": "error",
     "traceback": [
      "\u001b[1;31m---------------------------------------------------------------------------\u001b[0m",
      "\u001b[1;31mException\u001b[0m                                 Traceback (most recent call last)",
      "Cell \u001b[1;32mIn[6], line 3\u001b[0m\n\u001b[0;32m      1\u001b[0m \u001b[38;5;28;01mimport\u001b[39;00m \u001b[38;5;21;01mpyterrier\u001b[39;00m \u001b[38;5;28;01mas\u001b[39;00m \u001b[38;5;21;01mpt\u001b[39;00m\n\u001b[0;32m      2\u001b[0m \u001b[38;5;28;01mif\u001b[39;00m \u001b[38;5;129;01mnot\u001b[39;00m pt\u001b[38;5;241m.\u001b[39mstarted():\n\u001b[1;32m----> 3\u001b[0m     \u001b[43mpt\u001b[49m\u001b[38;5;241;43m.\u001b[39;49m\u001b[43minit\u001b[49m\u001b[43m(\u001b[49m\u001b[43m)\u001b[49m\n",
      "File \u001b[1;32m~\\anaconda3\\Lib\\site-packages\\pyterrier\\java\\_utils.py:57\u001b[0m, in \u001b[0;36mbefore_init.<locals>._wrapper\u001b[1;34m(*args, **kwargs)\u001b[0m\n\u001b[0;32m     55\u001b[0m \u001b[38;5;28;01mif\u001b[39;00m started():\n\u001b[0;32m     56\u001b[0m     \u001b[38;5;28;01mraise\u001b[39;00m \u001b[38;5;167;01mRuntimeError\u001b[39;00m(\u001b[38;5;124mf\u001b[39m\u001b[38;5;124m'\u001b[39m\u001b[38;5;124mYou can only call \u001b[39m\u001b[38;5;132;01m{\u001b[39;00mfn\u001b[38;5;132;01m}\u001b[39;00m\u001b[38;5;124m before either you start using java or call pt.java.init()\u001b[39m\u001b[38;5;124m'\u001b[39m)\n\u001b[1;32m---> 57\u001b[0m \u001b[38;5;28;01mreturn\u001b[39;00m \u001b[43mfn\u001b[49m\u001b[43m(\u001b[49m\u001b[38;5;241;43m*\u001b[39;49m\u001b[43margs\u001b[49m\u001b[43m,\u001b[49m\u001b[43m \u001b[49m\u001b[38;5;241;43m*\u001b[39;49m\u001b[38;5;241;43m*\u001b[39;49m\u001b[43mkwargs\u001b[49m\u001b[43m)\u001b[49m\n",
      "File \u001b[1;32m~\\anaconda3\\Lib\\site-packages\\pyterrier\\java\\_utils.py:232\u001b[0m, in \u001b[0;36mlegacy_init\u001b[1;34m(version, mem, packages, jvm_opts, redirect_io, logging, home_dir, boot_packages, tqdm, no_download, helper_version)\u001b[0m\n\u001b[0;32m    229\u001b[0m     pt\u001b[38;5;241m.\u001b[39mjava\u001b[38;5;241m.\u001b[39mmavenresolver\u001b[38;5;241m.\u001b[39moffline()\n\u001b[0;32m    230\u001b[0m     deprecated_calls\u001b[38;5;241m.\u001b[39mappend(\u001b[38;5;124m'\u001b[39m\u001b[38;5;124mpt.java.mavenresolver.offline()\u001b[39m\u001b[38;5;124m'\u001b[39m)\n\u001b[1;32m--> 232\u001b[0m \u001b[43mpt\u001b[49m\u001b[38;5;241;43m.\u001b[39;49m\u001b[43mjava\u001b[49m\u001b[38;5;241;43m.\u001b[39;49m\u001b[43minit\u001b[49m\u001b[43m(\u001b[49m\u001b[43m)\u001b[49m\n\u001b[0;32m    233\u001b[0m deprecated_calls\u001b[38;5;241m.\u001b[39mappend(\u001b[38;5;124m'\u001b[39m\u001b[38;5;124mpt.java.init() # optional, forces java initialisation\u001b[39m\u001b[38;5;124m'\u001b[39m)\n\u001b[0;32m    235\u001b[0m \u001b[38;5;66;03m# Import other java packages\u001b[39;00m\n",
      "File \u001b[1;32m~\\anaconda3\\Lib\\site-packages\\pyterrier\\java\\_utils.py:96\u001b[0m, in \u001b[0;36minit\u001b[1;34m()\u001b[0m\n\u001b[0;32m     95\u001b[0m \u001b[38;5;28;01mdef\u001b[39;00m \u001b[38;5;21minit\u001b[39m() \u001b[38;5;241m-\u001b[39m\u001b[38;5;241m>\u001b[39m \u001b[38;5;28;01mNone\u001b[39;00m:\n\u001b[1;32m---> 96\u001b[0m     \u001b[43m_init\u001b[49m\u001b[43m(\u001b[49m\u001b[43m)\u001b[49m\n",
      "File \u001b[1;32m~\\anaconda3\\Lib\\site-packages\\pyterrier\\utils.py:94\u001b[0m, in \u001b[0;36monce.<locals>._once.<locals>._wrapper\u001b[1;34m(*args, **kwargs)\u001b[0m\n\u001b[0;32m     92\u001b[0m     \u001b[38;5;28;01mraise\u001b[39;00m \u001b[38;5;167;01mValueError\u001b[39;00m(\u001b[38;5;124mf\u001b[39m\u001b[38;5;124m\"\u001b[39m\u001b[38;5;132;01m{\u001b[39;00mfn\u001b[38;5;241m.\u001b[39m\u001b[38;5;18m__name__\u001b[39m\u001b[38;5;132;01m}\u001b[39;00m\u001b[38;5;124m has already been run\u001b[39m\u001b[38;5;124m\"\u001b[39m)\n\u001b[0;32m     93\u001b[0m \u001b[38;5;66;03m# how to handle errors?\u001b[39;00m\n\u001b[1;32m---> 94\u001b[0m res \u001b[38;5;241m=\u001b[39m \u001b[43mfn\u001b[49m\u001b[43m(\u001b[49m\u001b[38;5;241;43m*\u001b[39;49m\u001b[43margs\u001b[49m\u001b[43m,\u001b[49m\u001b[43m \u001b[49m\u001b[38;5;241;43m*\u001b[39;49m\u001b[38;5;241;43m*\u001b[39;49m\u001b[43mkwargs\u001b[49m\u001b[43m)\u001b[49m\n\u001b[0;32m     95\u001b[0m called \u001b[38;5;241m=\u001b[39m \u001b[38;5;28;01mTrue\u001b[39;00m\n\u001b[0;32m     96\u001b[0m \u001b[38;5;28;01mreturn\u001b[39;00m res\n",
      "File \u001b[1;32m~\\anaconda3\\Lib\\site-packages\\pyterrier\\java\\_utils.py:128\u001b[0m, in \u001b[0;36m_init\u001b[1;34m(trigger)\u001b[0m\n\u001b[0;32m    125\u001b[0m \u001b[38;5;28;01mfor\u001b[39;00m _, initializer \u001b[38;5;129;01min\u001b[39;00m initializers:\n\u001b[0;32m    126\u001b[0m     initializer\u001b[38;5;241m.\u001b[39mpre_init(jnius_config)\n\u001b[1;32m--> 128\u001b[0m \u001b[38;5;28;01mimport\u001b[39;00m \u001b[38;5;21;01mjnius\u001b[39;00m \u001b[38;5;66;03m# noqa: PT100 \u001b[39;00m\n\u001b[0;32m    129\u001b[0m _started \u001b[38;5;241m=\u001b[39m \u001b[38;5;28;01mTrue\u001b[39;00m\n\u001b[0;32m    131\u001b[0m \u001b[38;5;66;03m# run post-initialization setup\u001b[39;00m\n",
      "File \u001b[1;32m~\\anaconda3\\Lib\\site-packages\\jnius\\__init__.py:42\u001b[0m\n\u001b[0;32m     40\u001b[0m                     \u001b[38;5;28;01mbreak\u001b[39;00m\n\u001b[0;32m     41\u001b[0m         \u001b[38;5;28;01melse\u001b[39;00m:\n\u001b[1;32m---> 42\u001b[0m             \u001b[38;5;28;01mraise\u001b[39;00m \u001b[38;5;167;01mException\u001b[39;00m(\u001b[38;5;124m\"\u001b[39m\u001b[38;5;124mUnable to create jni env, no jvm dll found.\u001b[39m\u001b[38;5;124m\"\u001b[39m)\n\u001b[0;32m     43\u001b[0m \u001b[38;5;28;01melse\u001b[39;00m:\n\u001b[0;32m     44\u001b[0m     \u001b[38;5;28;01mfrom\u001b[39;00m \u001b[38;5;21;01m.\u001b[39;00m\u001b[38;5;21;01mjnius\u001b[39;00m \u001b[38;5;28;01mimport\u001b[39;00m \u001b[38;5;241m*\u001b[39m  \u001b[38;5;66;03m# noqa\u001b[39;00m\n",
      "\u001b[1;31mException\u001b[0m: Unable to create jni env, no jvm dll found."
     ]
    }
   ],
   "source": [
    "import pyterrier as pt\n",
    "if not pt.started():\n",
    "    pt.init()\n"
   ]
  },
  {
   "cell_type": "code",
   "execution_count": null,
   "id": "4b816d73-26e3-4bc9-88b3-8d741871b7e9",
   "metadata": {},
   "outputs": [],
   "source": []
  },
  {
   "cell_type": "markdown",
   "id": "fb23d0af-9571-4788-ae89-3a5204e41fe0",
   "metadata": {
    "jp-MarkdownHeadingCollapsed": true
   },
   "source": [
    "## New method in google colab"
   ]
  },
  {
   "cell_type": "code",
   "execution_count": null,
   "id": "567e8d8a-31d6-4c35-8356-4ced7a497fec",
   "metadata": {},
   "outputs": [],
   "source": []
  }
 ],
 "metadata": {
  "kernelspec": {
   "display_name": "Python 3 (ipykernel)",
   "language": "python",
   "name": "python3"
  },
  "language_info": {
   "codemirror_mode": {
    "name": "ipython",
    "version": 3
   },
   "file_extension": ".py",
   "mimetype": "text/x-python",
   "name": "python",
   "nbconvert_exporter": "python",
   "pygments_lexer": "ipython3",
   "version": "3.11.7"
  }
 },
 "nbformat": 4,
 "nbformat_minor": 5
}
